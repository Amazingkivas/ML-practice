{
  "cells": [
    {
      "cell_type": "markdown",
      "metadata": {
        "id": "view-in-github",
        "colab_type": "text"
      },
      "source": [
        "<a href=\"https://colab.research.google.com/github/Amazingkivas/ML-practice/blob/main/clusterization.ipynb\" target=\"_parent\"><img src=\"https://colab.research.google.com/assets/colab-badge.svg\" alt=\"Open In Colab\"/></a>"
      ]
    },
    {
      "cell_type": "code",
      "execution_count": 1,
      "metadata": {
        "id": "PcZz0dvyZ9-Y"
      },
      "outputs": [],
      "source": [
        "import warnings\n",
        "warnings.filterwarnings(\"ignore\")\n",
        "\n",
        "import numpy as np\n",
        "import pandas as pd\n",
        "import matplotlib.pyplot as plt\n",
        "import seaborn as sns\n",
        "\n",
        "pd.set_option('display.max.columns', 100)\n",
        "%matplotlib inline"
      ]
    },
    {
      "cell_type": "markdown",
      "metadata": {
        "id": "wVju2bIIrotY"
      },
      "source": [
        "## 1. Загрузка и чтение данных"
      ]
    },
    {
      "cell_type": "markdown",
      "metadata": {
        "id": "b8vt4dZNSiKc"
      },
      "source": [
        "### 1.1. Загрузка датасетов"
      ]
    },
    {
      "cell_type": "markdown",
      "metadata": {
        "id": "1cy5WUOmb8D0"
      },
      "source": [
        "Загрузка ключа kaggle"
      ]
    },
    {
      "cell_type": "code",
      "execution_count": 2,
      "metadata": {
        "colab": {
          "base_uri": "https://localhost:8080/",
          "height": 0
        },
        "id": "V-u_OVGLjup3",
        "outputId": "6d7cb45a-e557-4c59-d147-7d159403af6f"
      },
      "outputs": [
        {
          "output_type": "display_data",
          "data": {
            "text/plain": [
              "<IPython.core.display.HTML object>"
            ],
            "text/html": [
              "\n",
              "     <input type=\"file\" id=\"files-a94dafa9-6351-4f9d-ad99-952d0c5bc65d\" name=\"files[]\" multiple disabled\n",
              "        style=\"border:none\" />\n",
              "     <output id=\"result-a94dafa9-6351-4f9d-ad99-952d0c5bc65d\">\n",
              "      Upload widget is only available when the cell has been executed in the\n",
              "      current browser session. Please rerun this cell to enable.\n",
              "      </output>\n",
              "      <script>// Copyright 2017 Google LLC\n",
              "//\n",
              "// Licensed under the Apache License, Version 2.0 (the \"License\");\n",
              "// you may not use this file except in compliance with the License.\n",
              "// You may obtain a copy of the License at\n",
              "//\n",
              "//      http://www.apache.org/licenses/LICENSE-2.0\n",
              "//\n",
              "// Unless required by applicable law or agreed to in writing, software\n",
              "// distributed under the License is distributed on an \"AS IS\" BASIS,\n",
              "// WITHOUT WARRANTIES OR CONDITIONS OF ANY KIND, either express or implied.\n",
              "// See the License for the specific language governing permissions and\n",
              "// limitations under the License.\n",
              "\n",
              "/**\n",
              " * @fileoverview Helpers for google.colab Python module.\n",
              " */\n",
              "(function(scope) {\n",
              "function span(text, styleAttributes = {}) {\n",
              "  const element = document.createElement('span');\n",
              "  element.textContent = text;\n",
              "  for (const key of Object.keys(styleAttributes)) {\n",
              "    element.style[key] = styleAttributes[key];\n",
              "  }\n",
              "  return element;\n",
              "}\n",
              "\n",
              "// Max number of bytes which will be uploaded at a time.\n",
              "const MAX_PAYLOAD_SIZE = 100 * 1024;\n",
              "\n",
              "function _uploadFiles(inputId, outputId) {\n",
              "  const steps = uploadFilesStep(inputId, outputId);\n",
              "  const outputElement = document.getElementById(outputId);\n",
              "  // Cache steps on the outputElement to make it available for the next call\n",
              "  // to uploadFilesContinue from Python.\n",
              "  outputElement.steps = steps;\n",
              "\n",
              "  return _uploadFilesContinue(outputId);\n",
              "}\n",
              "\n",
              "// This is roughly an async generator (not supported in the browser yet),\n",
              "// where there are multiple asynchronous steps and the Python side is going\n",
              "// to poll for completion of each step.\n",
              "// This uses a Promise to block the python side on completion of each step,\n",
              "// then passes the result of the previous step as the input to the next step.\n",
              "function _uploadFilesContinue(outputId) {\n",
              "  const outputElement = document.getElementById(outputId);\n",
              "  const steps = outputElement.steps;\n",
              "\n",
              "  const next = steps.next(outputElement.lastPromiseValue);\n",
              "  return Promise.resolve(next.value.promise).then((value) => {\n",
              "    // Cache the last promise value to make it available to the next\n",
              "    // step of the generator.\n",
              "    outputElement.lastPromiseValue = value;\n",
              "    return next.value.response;\n",
              "  });\n",
              "}\n",
              "\n",
              "/**\n",
              " * Generator function which is called between each async step of the upload\n",
              " * process.\n",
              " * @param {string} inputId Element ID of the input file picker element.\n",
              " * @param {string} outputId Element ID of the output display.\n",
              " * @return {!Iterable<!Object>} Iterable of next steps.\n",
              " */\n",
              "function* uploadFilesStep(inputId, outputId) {\n",
              "  const inputElement = document.getElementById(inputId);\n",
              "  inputElement.disabled = false;\n",
              "\n",
              "  const outputElement = document.getElementById(outputId);\n",
              "  outputElement.innerHTML = '';\n",
              "\n",
              "  const pickedPromise = new Promise((resolve) => {\n",
              "    inputElement.addEventListener('change', (e) => {\n",
              "      resolve(e.target.files);\n",
              "    });\n",
              "  });\n",
              "\n",
              "  const cancel = document.createElement('button');\n",
              "  inputElement.parentElement.appendChild(cancel);\n",
              "  cancel.textContent = 'Cancel upload';\n",
              "  const cancelPromise = new Promise((resolve) => {\n",
              "    cancel.onclick = () => {\n",
              "      resolve(null);\n",
              "    };\n",
              "  });\n",
              "\n",
              "  // Wait for the user to pick the files.\n",
              "  const files = yield {\n",
              "    promise: Promise.race([pickedPromise, cancelPromise]),\n",
              "    response: {\n",
              "      action: 'starting',\n",
              "    }\n",
              "  };\n",
              "\n",
              "  cancel.remove();\n",
              "\n",
              "  // Disable the input element since further picks are not allowed.\n",
              "  inputElement.disabled = true;\n",
              "\n",
              "  if (!files) {\n",
              "    return {\n",
              "      response: {\n",
              "        action: 'complete',\n",
              "      }\n",
              "    };\n",
              "  }\n",
              "\n",
              "  for (const file of files) {\n",
              "    const li = document.createElement('li');\n",
              "    li.append(span(file.name, {fontWeight: 'bold'}));\n",
              "    li.append(span(\n",
              "        `(${file.type || 'n/a'}) - ${file.size} bytes, ` +\n",
              "        `last modified: ${\n",
              "            file.lastModifiedDate ? file.lastModifiedDate.toLocaleDateString() :\n",
              "                                    'n/a'} - `));\n",
              "    const percent = span('0% done');\n",
              "    li.appendChild(percent);\n",
              "\n",
              "    outputElement.appendChild(li);\n",
              "\n",
              "    const fileDataPromise = new Promise((resolve) => {\n",
              "      const reader = new FileReader();\n",
              "      reader.onload = (e) => {\n",
              "        resolve(e.target.result);\n",
              "      };\n",
              "      reader.readAsArrayBuffer(file);\n",
              "    });\n",
              "    // Wait for the data to be ready.\n",
              "    let fileData = yield {\n",
              "      promise: fileDataPromise,\n",
              "      response: {\n",
              "        action: 'continue',\n",
              "      }\n",
              "    };\n",
              "\n",
              "    // Use a chunked sending to avoid message size limits. See b/62115660.\n",
              "    let position = 0;\n",
              "    do {\n",
              "      const length = Math.min(fileData.byteLength - position, MAX_PAYLOAD_SIZE);\n",
              "      const chunk = new Uint8Array(fileData, position, length);\n",
              "      position += length;\n",
              "\n",
              "      const base64 = btoa(String.fromCharCode.apply(null, chunk));\n",
              "      yield {\n",
              "        response: {\n",
              "          action: 'append',\n",
              "          file: file.name,\n",
              "          data: base64,\n",
              "        },\n",
              "      };\n",
              "\n",
              "      let percentDone = fileData.byteLength === 0 ?\n",
              "          100 :\n",
              "          Math.round((position / fileData.byteLength) * 100);\n",
              "      percent.textContent = `${percentDone}% done`;\n",
              "\n",
              "    } while (position < fileData.byteLength);\n",
              "  }\n",
              "\n",
              "  // All done.\n",
              "  yield {\n",
              "    response: {\n",
              "      action: 'complete',\n",
              "    }\n",
              "  };\n",
              "}\n",
              "\n",
              "scope.google = scope.google || {};\n",
              "scope.google.colab = scope.google.colab || {};\n",
              "scope.google.colab._files = {\n",
              "  _uploadFiles,\n",
              "  _uploadFilesContinue,\n",
              "};\n",
              "})(self);\n",
              "</script> "
            ]
          },
          "metadata": {}
        },
        {
          "output_type": "stream",
          "name": "stdout",
          "text": [
            "Saving kaggle.json to kaggle (1).json\n"
          ]
        }
      ],
      "source": [
        "!pip install kaggle > /dev/null 2>&1\n",
        "from google.colab import files\n",
        "from IPython.display import clear_output\n",
        "files.upload()\n",
        "clear_output(wait=True)"
      ]
    },
    {
      "cell_type": "code",
      "execution_count": 3,
      "metadata": {
        "colab": {
          "base_uri": "https://localhost:8080/"
        },
        "id": "OZyfoKk9j1s0",
        "outputId": "cb1e0e01-f633-4a3a-be82-1bb29806acb1"
      },
      "outputs": [
        {
          "output_type": "stream",
          "name": "stdout",
          "text": [
            "mkdir: cannot create directory ‘/root/.kaggle’: File exists\n",
            "Dataset URL: https://www.kaggle.com/datasets/matheusfonsecachaves/popular-video-games\n",
            "License(s): DbCL-1.0\n",
            "popular-video-games.zip: Skipping, found more recently modified local copy (use --force to force download)\n",
            "Dataset URL: https://www.kaggle.com/datasets/muhammadadiltalay/imdb-video-games\n",
            "License(s): CC0-1.0\n",
            "imdb-video-games.zip: Skipping, found more recently modified local copy (use --force to force download)\n"
          ]
        }
      ],
      "source": [
        "! mkdir ~/.kaggle\n",
        "! cp kaggle.json ~/.kaggle\n",
        "! chmod 600 ~/.kaggle/kaggle.json\n",
        "! kaggle datasets download -d matheusfonsecachaves/popular-video-games\n",
        "! kaggle datasets download -d muhammadadiltalay/imdb-video-games\n",
        "! unzip /content/popular-video-games.zip > /dev/null 2>&1\n",
        "! unzip /content/imdb-video-games.zip > /dev/null 2>&1"
      ]
    },
    {
      "cell_type": "code",
      "execution_count": 2,
      "metadata": {
        "id": "KCQSZxqVj4zs"
      },
      "outputs": [],
      "source": [
        "df_1 = pd.read_csv('/content/backloggd_games.csv')\n",
        "df_2 = pd.read_csv('/content/imdb-videogames.csv')"
      ]
    },
    {
      "cell_type": "code",
      "execution_count": 3,
      "metadata": {
        "colab": {
          "base_uri": "https://localhost:8080/",
          "height": 0
        },
        "id": "nhJNOleej9Ot",
        "outputId": "b945ad6a-0994-41b4-aae1-cc49a702ee8e"
      },
      "outputs": [
        {
          "output_type": "execute_result",
          "data": {
            "text/plain": [
              "   Unnamed: 0                                    Title  Release_Date  \\\n",
              "0           0                               Elden Ring  Feb 25, 2022   \n",
              "1           1  The Legend of Zelda: Breath of the Wild  Mar 03, 2017   \n",
              "2           2                                    Hades  Dec 07, 2018   \n",
              "\n",
              "                                          Developers  \\\n",
              "0     ['FromSoftware', 'Bandai Namco Entertainment']   \n",
              "1  ['Nintendo', 'Nintendo EPD Production Group No...   \n",
              "2                               ['Supergiant Games']   \n",
              "\n",
              "                                             Summary  \\\n",
              "0  Elden Ring is a fantasy, action and open world...   \n",
              "1  The Legend of Zelda: Breath of the Wild is the...   \n",
              "2  A rogue-lite hack and slash dungeon crawler in...   \n",
              "\n",
              "                                           Platforms  \\\n",
              "0  ['Windows PC', 'PlayStation 4', 'Xbox One', 'P...   \n",
              "1                       ['Wii U', 'Nintendo Switch']   \n",
              "2  ['Windows PC', 'Mac', 'PlayStation 4', 'Xbox O...   \n",
              "\n",
              "                                     Genres  Rating Plays Playing Backlogs  \\\n",
              "0                      ['Adventure', 'RPG']     4.5   21K    4.1K     5.6K   \n",
              "1                   ['Adventure', 'Puzzle']     4.4   35K    3.1K     5.6K   \n",
              "2  ['Adventure', 'Brawler', 'Indie', 'RPG']     4.3   25K    3.5K     7.3K   \n",
              "\n",
              "  Wishlist Lists Reviews  \n",
              "0     5.5K  4.6K      3K  \n",
              "1       3K  5.1K      3K  \n",
              "2       4K  3.2K    2.1K  "
            ],
            "text/html": [
              "\n",
              "  <div id=\"df-c766090d-8fdc-4263-a7c0-b2e798dafaac\" class=\"colab-df-container\">\n",
              "    <div>\n",
              "<style scoped>\n",
              "    .dataframe tbody tr th:only-of-type {\n",
              "        vertical-align: middle;\n",
              "    }\n",
              "\n",
              "    .dataframe tbody tr th {\n",
              "        vertical-align: top;\n",
              "    }\n",
              "\n",
              "    .dataframe thead th {\n",
              "        text-align: right;\n",
              "    }\n",
              "</style>\n",
              "<table border=\"1\" class=\"dataframe\">\n",
              "  <thead>\n",
              "    <tr style=\"text-align: right;\">\n",
              "      <th></th>\n",
              "      <th>Unnamed: 0</th>\n",
              "      <th>Title</th>\n",
              "      <th>Release_Date</th>\n",
              "      <th>Developers</th>\n",
              "      <th>Summary</th>\n",
              "      <th>Platforms</th>\n",
              "      <th>Genres</th>\n",
              "      <th>Rating</th>\n",
              "      <th>Plays</th>\n",
              "      <th>Playing</th>\n",
              "      <th>Backlogs</th>\n",
              "      <th>Wishlist</th>\n",
              "      <th>Lists</th>\n",
              "      <th>Reviews</th>\n",
              "    </tr>\n",
              "  </thead>\n",
              "  <tbody>\n",
              "    <tr>\n",
              "      <th>0</th>\n",
              "      <td>0</td>\n",
              "      <td>Elden Ring</td>\n",
              "      <td>Feb 25, 2022</td>\n",
              "      <td>['FromSoftware', 'Bandai Namco Entertainment']</td>\n",
              "      <td>Elden Ring is a fantasy, action and open world...</td>\n",
              "      <td>['Windows PC', 'PlayStation 4', 'Xbox One', 'P...</td>\n",
              "      <td>['Adventure', 'RPG']</td>\n",
              "      <td>4.5</td>\n",
              "      <td>21K</td>\n",
              "      <td>4.1K</td>\n",
              "      <td>5.6K</td>\n",
              "      <td>5.5K</td>\n",
              "      <td>4.6K</td>\n",
              "      <td>3K</td>\n",
              "    </tr>\n",
              "    <tr>\n",
              "      <th>1</th>\n",
              "      <td>1</td>\n",
              "      <td>The Legend of Zelda: Breath of the Wild</td>\n",
              "      <td>Mar 03, 2017</td>\n",
              "      <td>['Nintendo', 'Nintendo EPD Production Group No...</td>\n",
              "      <td>The Legend of Zelda: Breath of the Wild is the...</td>\n",
              "      <td>['Wii U', 'Nintendo Switch']</td>\n",
              "      <td>['Adventure', 'Puzzle']</td>\n",
              "      <td>4.4</td>\n",
              "      <td>35K</td>\n",
              "      <td>3.1K</td>\n",
              "      <td>5.6K</td>\n",
              "      <td>3K</td>\n",
              "      <td>5.1K</td>\n",
              "      <td>3K</td>\n",
              "    </tr>\n",
              "    <tr>\n",
              "      <th>2</th>\n",
              "      <td>2</td>\n",
              "      <td>Hades</td>\n",
              "      <td>Dec 07, 2018</td>\n",
              "      <td>['Supergiant Games']</td>\n",
              "      <td>A rogue-lite hack and slash dungeon crawler in...</td>\n",
              "      <td>['Windows PC', 'Mac', 'PlayStation 4', 'Xbox O...</td>\n",
              "      <td>['Adventure', 'Brawler', 'Indie', 'RPG']</td>\n",
              "      <td>4.3</td>\n",
              "      <td>25K</td>\n",
              "      <td>3.5K</td>\n",
              "      <td>7.3K</td>\n",
              "      <td>4K</td>\n",
              "      <td>3.2K</td>\n",
              "      <td>2.1K</td>\n",
              "    </tr>\n",
              "  </tbody>\n",
              "</table>\n",
              "</div>\n",
              "    <div class=\"colab-df-buttons\">\n",
              "\n",
              "  <div class=\"colab-df-container\">\n",
              "    <button class=\"colab-df-convert\" onclick=\"convertToInteractive('df-c766090d-8fdc-4263-a7c0-b2e798dafaac')\"\n",
              "            title=\"Convert this dataframe to an interactive table.\"\n",
              "            style=\"display:none;\">\n",
              "\n",
              "  <svg xmlns=\"http://www.w3.org/2000/svg\" height=\"24px\" viewBox=\"0 -960 960 960\">\n",
              "    <path d=\"M120-120v-720h720v720H120Zm60-500h600v-160H180v160Zm220 220h160v-160H400v160Zm0 220h160v-160H400v160ZM180-400h160v-160H180v160Zm440 0h160v-160H620v160ZM180-180h160v-160H180v160Zm440 0h160v-160H620v160Z\"/>\n",
              "  </svg>\n",
              "    </button>\n",
              "\n",
              "  <style>\n",
              "    .colab-df-container {\n",
              "      display:flex;\n",
              "      gap: 12px;\n",
              "    }\n",
              "\n",
              "    .colab-df-convert {\n",
              "      background-color: #E8F0FE;\n",
              "      border: none;\n",
              "      border-radius: 50%;\n",
              "      cursor: pointer;\n",
              "      display: none;\n",
              "      fill: #1967D2;\n",
              "      height: 32px;\n",
              "      padding: 0 0 0 0;\n",
              "      width: 32px;\n",
              "    }\n",
              "\n",
              "    .colab-df-convert:hover {\n",
              "      background-color: #E2EBFA;\n",
              "      box-shadow: 0px 1px 2px rgba(60, 64, 67, 0.3), 0px 1px 3px 1px rgba(60, 64, 67, 0.15);\n",
              "      fill: #174EA6;\n",
              "    }\n",
              "\n",
              "    .colab-df-buttons div {\n",
              "      margin-bottom: 4px;\n",
              "    }\n",
              "\n",
              "    [theme=dark] .colab-df-convert {\n",
              "      background-color: #3B4455;\n",
              "      fill: #D2E3FC;\n",
              "    }\n",
              "\n",
              "    [theme=dark] .colab-df-convert:hover {\n",
              "      background-color: #434B5C;\n",
              "      box-shadow: 0px 1px 3px 1px rgba(0, 0, 0, 0.15);\n",
              "      filter: drop-shadow(0px 1px 2px rgba(0, 0, 0, 0.3));\n",
              "      fill: #FFFFFF;\n",
              "    }\n",
              "  </style>\n",
              "\n",
              "    <script>\n",
              "      const buttonEl =\n",
              "        document.querySelector('#df-c766090d-8fdc-4263-a7c0-b2e798dafaac button.colab-df-convert');\n",
              "      buttonEl.style.display =\n",
              "        google.colab.kernel.accessAllowed ? 'block' : 'none';\n",
              "\n",
              "      async function convertToInteractive(key) {\n",
              "        const element = document.querySelector('#df-c766090d-8fdc-4263-a7c0-b2e798dafaac');\n",
              "        const dataTable =\n",
              "          await google.colab.kernel.invokeFunction('convertToInteractive',\n",
              "                                                    [key], {});\n",
              "        if (!dataTable) return;\n",
              "\n",
              "        const docLinkHtml = 'Like what you see? Visit the ' +\n",
              "          '<a target=\"_blank\" href=https://colab.research.google.com/notebooks/data_table.ipynb>data table notebook</a>'\n",
              "          + ' to learn more about interactive tables.';\n",
              "        element.innerHTML = '';\n",
              "        dataTable['output_type'] = 'display_data';\n",
              "        await google.colab.output.renderOutput(dataTable, element);\n",
              "        const docLink = document.createElement('div');\n",
              "        docLink.innerHTML = docLinkHtml;\n",
              "        element.appendChild(docLink);\n",
              "      }\n",
              "    </script>\n",
              "  </div>\n",
              "\n",
              "\n",
              "<div id=\"df-b9172ccb-59ed-48f0-8668-1bd118bd206e\">\n",
              "  <button class=\"colab-df-quickchart\" onclick=\"quickchart('df-b9172ccb-59ed-48f0-8668-1bd118bd206e')\"\n",
              "            title=\"Suggest charts\"\n",
              "            style=\"display:none;\">\n",
              "\n",
              "<svg xmlns=\"http://www.w3.org/2000/svg\" height=\"24px\"viewBox=\"0 0 24 24\"\n",
              "     width=\"24px\">\n",
              "    <g>\n",
              "        <path d=\"M19 3H5c-1.1 0-2 .9-2 2v14c0 1.1.9 2 2 2h14c1.1 0 2-.9 2-2V5c0-1.1-.9-2-2-2zM9 17H7v-7h2v7zm4 0h-2V7h2v10zm4 0h-2v-4h2v4z\"/>\n",
              "    </g>\n",
              "</svg>\n",
              "  </button>\n",
              "\n",
              "<style>\n",
              "  .colab-df-quickchart {\n",
              "      --bg-color: #E8F0FE;\n",
              "      --fill-color: #1967D2;\n",
              "      --hover-bg-color: #E2EBFA;\n",
              "      --hover-fill-color: #174EA6;\n",
              "      --disabled-fill-color: #AAA;\n",
              "      --disabled-bg-color: #DDD;\n",
              "  }\n",
              "\n",
              "  [theme=dark] .colab-df-quickchart {\n",
              "      --bg-color: #3B4455;\n",
              "      --fill-color: #D2E3FC;\n",
              "      --hover-bg-color: #434B5C;\n",
              "      --hover-fill-color: #FFFFFF;\n",
              "      --disabled-bg-color: #3B4455;\n",
              "      --disabled-fill-color: #666;\n",
              "  }\n",
              "\n",
              "  .colab-df-quickchart {\n",
              "    background-color: var(--bg-color);\n",
              "    border: none;\n",
              "    border-radius: 50%;\n",
              "    cursor: pointer;\n",
              "    display: none;\n",
              "    fill: var(--fill-color);\n",
              "    height: 32px;\n",
              "    padding: 0;\n",
              "    width: 32px;\n",
              "  }\n",
              "\n",
              "  .colab-df-quickchart:hover {\n",
              "    background-color: var(--hover-bg-color);\n",
              "    box-shadow: 0 1px 2px rgba(60, 64, 67, 0.3), 0 1px 3px 1px rgba(60, 64, 67, 0.15);\n",
              "    fill: var(--button-hover-fill-color);\n",
              "  }\n",
              "\n",
              "  .colab-df-quickchart-complete:disabled,\n",
              "  .colab-df-quickchart-complete:disabled:hover {\n",
              "    background-color: var(--disabled-bg-color);\n",
              "    fill: var(--disabled-fill-color);\n",
              "    box-shadow: none;\n",
              "  }\n",
              "\n",
              "  .colab-df-spinner {\n",
              "    border: 2px solid var(--fill-color);\n",
              "    border-color: transparent;\n",
              "    border-bottom-color: var(--fill-color);\n",
              "    animation:\n",
              "      spin 1s steps(1) infinite;\n",
              "  }\n",
              "\n",
              "  @keyframes spin {\n",
              "    0% {\n",
              "      border-color: transparent;\n",
              "      border-bottom-color: var(--fill-color);\n",
              "      border-left-color: var(--fill-color);\n",
              "    }\n",
              "    20% {\n",
              "      border-color: transparent;\n",
              "      border-left-color: var(--fill-color);\n",
              "      border-top-color: var(--fill-color);\n",
              "    }\n",
              "    30% {\n",
              "      border-color: transparent;\n",
              "      border-left-color: var(--fill-color);\n",
              "      border-top-color: var(--fill-color);\n",
              "      border-right-color: var(--fill-color);\n",
              "    }\n",
              "    40% {\n",
              "      border-color: transparent;\n",
              "      border-right-color: var(--fill-color);\n",
              "      border-top-color: var(--fill-color);\n",
              "    }\n",
              "    60% {\n",
              "      border-color: transparent;\n",
              "      border-right-color: var(--fill-color);\n",
              "    }\n",
              "    80% {\n",
              "      border-color: transparent;\n",
              "      border-right-color: var(--fill-color);\n",
              "      border-bottom-color: var(--fill-color);\n",
              "    }\n",
              "    90% {\n",
              "      border-color: transparent;\n",
              "      border-bottom-color: var(--fill-color);\n",
              "    }\n",
              "  }\n",
              "</style>\n",
              "\n",
              "  <script>\n",
              "    async function quickchart(key) {\n",
              "      const quickchartButtonEl =\n",
              "        document.querySelector('#' + key + ' button');\n",
              "      quickchartButtonEl.disabled = true;  // To prevent multiple clicks.\n",
              "      quickchartButtonEl.classList.add('colab-df-spinner');\n",
              "      try {\n",
              "        const charts = await google.colab.kernel.invokeFunction(\n",
              "            'suggestCharts', [key], {});\n",
              "      } catch (error) {\n",
              "        console.error('Error during call to suggestCharts:', error);\n",
              "      }\n",
              "      quickchartButtonEl.classList.remove('colab-df-spinner');\n",
              "      quickchartButtonEl.classList.add('colab-df-quickchart-complete');\n",
              "    }\n",
              "    (() => {\n",
              "      let quickchartButtonEl =\n",
              "        document.querySelector('#df-b9172ccb-59ed-48f0-8668-1bd118bd206e button');\n",
              "      quickchartButtonEl.style.display =\n",
              "        google.colab.kernel.accessAllowed ? 'block' : 'none';\n",
              "    })();\n",
              "  </script>\n",
              "</div>\n",
              "    </div>\n",
              "  </div>\n"
            ],
            "application/vnd.google.colaboratory.intrinsic+json": {
              "type": "dataframe",
              "variable_name": "df_1",
              "summary": "{\n  \"name\": \"df_1\",\n  \"rows\": 60000,\n  \"fields\": [\n    {\n      \"column\": \"Unnamed: 0\",\n      \"properties\": {\n        \"dtype\": \"number\",\n        \"std\": 17320,\n        \"min\": 0,\n        \"max\": 59999,\n        \"num_unique_values\": 60000,\n        \"samples\": [\n          12628,\n          37730,\n          39991\n        ],\n        \"semantic_type\": \"\",\n        \"description\": \"\"\n      }\n    },\n    {\n      \"column\": \"Title\",\n      \"properties\": {\n        \"dtype\": \"string\",\n        \"num_unique_values\": 40985,\n        \"samples\": [\n          \"Splatoon 3\",\n          \"Abunai Koi no Sousashitsu: Eternal Happiness\",\n          \"Broken Pieces\"\n        ],\n        \"semantic_type\": \"\",\n        \"description\": \"\"\n      }\n    },\n    {\n      \"column\": \"Release_Date\",\n      \"properties\": {\n        \"dtype\": \"category\",\n        \"num_unique_values\": 8956,\n        \"samples\": [\n          \"Aug 02, 2020\",\n          \"Nov 21, 2008\",\n          \"Apr 01, 1999\"\n        ],\n        \"semantic_type\": \"\",\n        \"description\": \"\"\n      }\n    },\n    {\n      \"column\": \"Developers\",\n      \"properties\": {\n        \"dtype\": \"category\",\n        \"num_unique_values\": 18356,\n        \"samples\": [\n          \"['Dawnosaur Studios']\",\n          \"['\\u661f\\u613f\\u5236\\u4f5c\\u7ec4', '\\u7535\\u94ae\\u7ec4']\",\n          \"['Challat']\"\n        ],\n        \"semantic_type\": \"\",\n        \"description\": \"\"\n      }\n    },\n    {\n      \"column\": \"Summary\",\n      \"properties\": {\n        \"dtype\": \"string\",\n        \"num_unique_values\": 38411,\n        \"samples\": [\n          \"White Tiles 4 has more than 300 awesome classic games in one App. Tap your way through piano, Guitar, Drum and Dubstep in your own customize game.\",\n          \"Team Sonic Racing combines the best elements of arcade and fast-paced competitive style racing as you face-off with friends in intense multiplayer racing.\",\n          \"This exclusive Playstation 3 add-on for BioShock includes three different challenge rooms in different locations from the main storyline, which are introduced with a comic book cover done by Sander Cohen in the style of 1950s EC Comics. A new Game+ mode also lets you replay the main game with any abilities, inventory, and weapons that you collected previously. There are 12 new trophies to acquire.\"\n        ],\n        \"semantic_type\": \"\",\n        \"description\": \"\"\n      }\n    },\n    {\n      \"column\": \"Platforms\",\n      \"properties\": {\n        \"dtype\": \"category\",\n        \"num_unique_values\": 3169,\n        \"samples\": [\n          \"['Windows PC', 'Wii U', 'Xbox 360', 'PlayStation 4', 'PlayStation 3', 'PlayStation Vita']\",\n          \"['Atari ST/STE', 'SNES', 'Sega Master System', 'Amiga', 'PC DOS']\",\n          \"['Windows PC', 'Mac', 'Wii U', 'Linux', 'PlayStation 4', 'Xbox One', 'Nintendo Switch', 'Google Stadia']\"\n        ],\n        \"semantic_type\": \"\",\n        \"description\": \"\"\n      }\n    },\n    {\n      \"column\": \"Genres\",\n      \"properties\": {\n        \"dtype\": \"category\",\n        \"num_unique_values\": 1751,\n        \"samples\": [\n          \"['Adventure', 'Brawler', 'Indie', 'RPG', 'Shooter']\",\n          \"['Adventure', 'Indie', 'Shooter', 'Strategy']\",\n          \"['Adventure', 'Platform', 'Shooter', 'Simulator', 'Strategy']\"\n        ],\n        \"semantic_type\": \"\",\n        \"description\": \"\"\n      }\n    },\n    {\n      \"column\": \"Rating\",\n      \"properties\": {\n        \"dtype\": \"number\",\n        \"std\": 0.7355728614289464,\n        \"min\": 0.3,\n        \"max\": 5.0,\n        \"num_unique_values\": 47,\n        \"samples\": [\n          2.3,\n          1.3,\n          1.8\n        ],\n        \"semantic_type\": \"\",\n        \"description\": \"\"\n      }\n    },\n    {\n      \"column\": \"Plays\",\n      \"properties\": {\n        \"dtype\": \"category\",\n        \"num_unique_values\": 1053,\n        \"samples\": [\n          \"705\",\n          \"1K\",\n          \"157\"\n        ],\n        \"semantic_type\": \"\",\n        \"description\": \"\"\n      }\n    },\n    {\n      \"column\": \"Playing\",\n      \"properties\": {\n        \"dtype\": \"category\",\n        \"num_unique_values\": 453,\n        \"samples\": [\n          \"362\",\n          \"546\",\n          \"84\"\n        ],\n        \"semantic_type\": \"\",\n        \"description\": \"\"\n      }\n    },\n    {\n      \"column\": \"Backlogs\",\n      \"properties\": {\n        \"dtype\": \"category\",\n        \"num_unique_values\": 923,\n        \"samples\": [\n          \"963\",\n          \"158\",\n          \"1.4K\"\n        ],\n        \"semantic_type\": \"\",\n        \"description\": \"\"\n      }\n    },\n    {\n      \"column\": \"Wishlist\",\n      \"properties\": {\n        \"dtype\": \"category\",\n        \"num_unique_values\": 800,\n        \"samples\": [\n          \"380\",\n          \"570\",\n          \"874\"\n        ],\n        \"semantic_type\": \"\",\n        \"description\": \"\"\n      }\n    },\n    {\n      \"column\": \"Lists\",\n      \"properties\": {\n        \"dtype\": \"category\",\n        \"num_unique_values\": 810,\n        \"samples\": [\n          \"560\",\n          \"159\",\n          \"742\"\n        ],\n        \"semantic_type\": \"\",\n        \"description\": \"\"\n      }\n    },\n    {\n      \"column\": \"Reviews\",\n      \"properties\": {\n        \"dtype\": \"category\",\n        \"num_unique_values\": 606,\n        \"samples\": [\n          \"267\",\n          \"334\",\n          \"891\"\n        ],\n        \"semantic_type\": \"\",\n        \"description\": \"\"\n      }\n    }\n  ]\n}"
            }
          },
          "metadata": {},
          "execution_count": 3
        }
      ],
      "source": [
        "df_1.head(3)"
      ]
    },
    {
      "cell_type": "code",
      "execution_count": 4,
      "metadata": {
        "colab": {
          "base_uri": "https://localhost:8080/",
          "height": 0
        },
        "id": "psZ1fJtPkAj9",
        "outputId": "ef906fe2-8cc5-4aba-ac76-faa198f01b57"
      },
      "outputs": [
        {
          "output_type": "execute_result",
          "data": {
            "text/plain": [
              "   Unnamed: 0                    name  \\\n",
              "0           0              Spider-Man   \n",
              "1           1  Red Dead Redemption II   \n",
              "2           2      Grand Theft Auto V   \n",
              "\n",
              "                                                 url    year certificate  \\\n",
              "0  https://www.imdb.com/title/tt5807780/?ref_=adv...  2018.0           T   \n",
              "1  https://www.imdb.com/title/tt6161168/?ref_=adv...  2018.0           M   \n",
              "2  https://www.imdb.com/title/tt2103188/?ref_=adv...  2013.0           M   \n",
              "\n",
              "   rating   votes                                               plot  Action  \\\n",
              "0     9.2  20,759  When a new villain threatens New York City, Pe...    True   \n",
              "1     9.7  35,703  Amidst the decline of the Wild West at the tur...    True   \n",
              "2     9.5  59,986  Three very different criminals team up for a s...    True   \n",
              "\n",
              "   Adventure  Comedy  Crime  Family  Fantasy  Mystery  Sci-Fi  Thriller  \n",
              "0       True   False  False   False     True    False   False     False  \n",
              "1       True   False   True   False    False    False   False     False  \n",
              "2      False   False   True   False    False    False   False     False  "
            ],
            "text/html": [
              "\n",
              "  <div id=\"df-cb65eecf-afde-4911-8558-5ddf551e4110\" class=\"colab-df-container\">\n",
              "    <div>\n",
              "<style scoped>\n",
              "    .dataframe tbody tr th:only-of-type {\n",
              "        vertical-align: middle;\n",
              "    }\n",
              "\n",
              "    .dataframe tbody tr th {\n",
              "        vertical-align: top;\n",
              "    }\n",
              "\n",
              "    .dataframe thead th {\n",
              "        text-align: right;\n",
              "    }\n",
              "</style>\n",
              "<table border=\"1\" class=\"dataframe\">\n",
              "  <thead>\n",
              "    <tr style=\"text-align: right;\">\n",
              "      <th></th>\n",
              "      <th>Unnamed: 0</th>\n",
              "      <th>name</th>\n",
              "      <th>url</th>\n",
              "      <th>year</th>\n",
              "      <th>certificate</th>\n",
              "      <th>rating</th>\n",
              "      <th>votes</th>\n",
              "      <th>plot</th>\n",
              "      <th>Action</th>\n",
              "      <th>Adventure</th>\n",
              "      <th>Comedy</th>\n",
              "      <th>Crime</th>\n",
              "      <th>Family</th>\n",
              "      <th>Fantasy</th>\n",
              "      <th>Mystery</th>\n",
              "      <th>Sci-Fi</th>\n",
              "      <th>Thriller</th>\n",
              "    </tr>\n",
              "  </thead>\n",
              "  <tbody>\n",
              "    <tr>\n",
              "      <th>0</th>\n",
              "      <td>0</td>\n",
              "      <td>Spider-Man</td>\n",
              "      <td>https://www.imdb.com/title/tt5807780/?ref_=adv...</td>\n",
              "      <td>2018.0</td>\n",
              "      <td>T</td>\n",
              "      <td>9.2</td>\n",
              "      <td>20,759</td>\n",
              "      <td>When a new villain threatens New York City, Pe...</td>\n",
              "      <td>True</td>\n",
              "      <td>True</td>\n",
              "      <td>False</td>\n",
              "      <td>False</td>\n",
              "      <td>False</td>\n",
              "      <td>True</td>\n",
              "      <td>False</td>\n",
              "      <td>False</td>\n",
              "      <td>False</td>\n",
              "    </tr>\n",
              "    <tr>\n",
              "      <th>1</th>\n",
              "      <td>1</td>\n",
              "      <td>Red Dead Redemption II</td>\n",
              "      <td>https://www.imdb.com/title/tt6161168/?ref_=adv...</td>\n",
              "      <td>2018.0</td>\n",
              "      <td>M</td>\n",
              "      <td>9.7</td>\n",
              "      <td>35,703</td>\n",
              "      <td>Amidst the decline of the Wild West at the tur...</td>\n",
              "      <td>True</td>\n",
              "      <td>True</td>\n",
              "      <td>False</td>\n",
              "      <td>True</td>\n",
              "      <td>False</td>\n",
              "      <td>False</td>\n",
              "      <td>False</td>\n",
              "      <td>False</td>\n",
              "      <td>False</td>\n",
              "    </tr>\n",
              "    <tr>\n",
              "      <th>2</th>\n",
              "      <td>2</td>\n",
              "      <td>Grand Theft Auto V</td>\n",
              "      <td>https://www.imdb.com/title/tt2103188/?ref_=adv...</td>\n",
              "      <td>2013.0</td>\n",
              "      <td>M</td>\n",
              "      <td>9.5</td>\n",
              "      <td>59,986</td>\n",
              "      <td>Three very different criminals team up for a s...</td>\n",
              "      <td>True</td>\n",
              "      <td>False</td>\n",
              "      <td>False</td>\n",
              "      <td>True</td>\n",
              "      <td>False</td>\n",
              "      <td>False</td>\n",
              "      <td>False</td>\n",
              "      <td>False</td>\n",
              "      <td>False</td>\n",
              "    </tr>\n",
              "  </tbody>\n",
              "</table>\n",
              "</div>\n",
              "    <div class=\"colab-df-buttons\">\n",
              "\n",
              "  <div class=\"colab-df-container\">\n",
              "    <button class=\"colab-df-convert\" onclick=\"convertToInteractive('df-cb65eecf-afde-4911-8558-5ddf551e4110')\"\n",
              "            title=\"Convert this dataframe to an interactive table.\"\n",
              "            style=\"display:none;\">\n",
              "\n",
              "  <svg xmlns=\"http://www.w3.org/2000/svg\" height=\"24px\" viewBox=\"0 -960 960 960\">\n",
              "    <path d=\"M120-120v-720h720v720H120Zm60-500h600v-160H180v160Zm220 220h160v-160H400v160Zm0 220h160v-160H400v160ZM180-400h160v-160H180v160Zm440 0h160v-160H620v160ZM180-180h160v-160H180v160Zm440 0h160v-160H620v160Z\"/>\n",
              "  </svg>\n",
              "    </button>\n",
              "\n",
              "  <style>\n",
              "    .colab-df-container {\n",
              "      display:flex;\n",
              "      gap: 12px;\n",
              "    }\n",
              "\n",
              "    .colab-df-convert {\n",
              "      background-color: #E8F0FE;\n",
              "      border: none;\n",
              "      border-radius: 50%;\n",
              "      cursor: pointer;\n",
              "      display: none;\n",
              "      fill: #1967D2;\n",
              "      height: 32px;\n",
              "      padding: 0 0 0 0;\n",
              "      width: 32px;\n",
              "    }\n",
              "\n",
              "    .colab-df-convert:hover {\n",
              "      background-color: #E2EBFA;\n",
              "      box-shadow: 0px 1px 2px rgba(60, 64, 67, 0.3), 0px 1px 3px 1px rgba(60, 64, 67, 0.15);\n",
              "      fill: #174EA6;\n",
              "    }\n",
              "\n",
              "    .colab-df-buttons div {\n",
              "      margin-bottom: 4px;\n",
              "    }\n",
              "\n",
              "    [theme=dark] .colab-df-convert {\n",
              "      background-color: #3B4455;\n",
              "      fill: #D2E3FC;\n",
              "    }\n",
              "\n",
              "    [theme=dark] .colab-df-convert:hover {\n",
              "      background-color: #434B5C;\n",
              "      box-shadow: 0px 1px 3px 1px rgba(0, 0, 0, 0.15);\n",
              "      filter: drop-shadow(0px 1px 2px rgba(0, 0, 0, 0.3));\n",
              "      fill: #FFFFFF;\n",
              "    }\n",
              "  </style>\n",
              "\n",
              "    <script>\n",
              "      const buttonEl =\n",
              "        document.querySelector('#df-cb65eecf-afde-4911-8558-5ddf551e4110 button.colab-df-convert');\n",
              "      buttonEl.style.display =\n",
              "        google.colab.kernel.accessAllowed ? 'block' : 'none';\n",
              "\n",
              "      async function convertToInteractive(key) {\n",
              "        const element = document.querySelector('#df-cb65eecf-afde-4911-8558-5ddf551e4110');\n",
              "        const dataTable =\n",
              "          await google.colab.kernel.invokeFunction('convertToInteractive',\n",
              "                                                    [key], {});\n",
              "        if (!dataTable) return;\n",
              "\n",
              "        const docLinkHtml = 'Like what you see? Visit the ' +\n",
              "          '<a target=\"_blank\" href=https://colab.research.google.com/notebooks/data_table.ipynb>data table notebook</a>'\n",
              "          + ' to learn more about interactive tables.';\n",
              "        element.innerHTML = '';\n",
              "        dataTable['output_type'] = 'display_data';\n",
              "        await google.colab.output.renderOutput(dataTable, element);\n",
              "        const docLink = document.createElement('div');\n",
              "        docLink.innerHTML = docLinkHtml;\n",
              "        element.appendChild(docLink);\n",
              "      }\n",
              "    </script>\n",
              "  </div>\n",
              "\n",
              "\n",
              "<div id=\"df-3c7f8aa7-3a4c-440f-979f-60a7f4dc6970\">\n",
              "  <button class=\"colab-df-quickchart\" onclick=\"quickchart('df-3c7f8aa7-3a4c-440f-979f-60a7f4dc6970')\"\n",
              "            title=\"Suggest charts\"\n",
              "            style=\"display:none;\">\n",
              "\n",
              "<svg xmlns=\"http://www.w3.org/2000/svg\" height=\"24px\"viewBox=\"0 0 24 24\"\n",
              "     width=\"24px\">\n",
              "    <g>\n",
              "        <path d=\"M19 3H5c-1.1 0-2 .9-2 2v14c0 1.1.9 2 2 2h14c1.1 0 2-.9 2-2V5c0-1.1-.9-2-2-2zM9 17H7v-7h2v7zm4 0h-2V7h2v10zm4 0h-2v-4h2v4z\"/>\n",
              "    </g>\n",
              "</svg>\n",
              "  </button>\n",
              "\n",
              "<style>\n",
              "  .colab-df-quickchart {\n",
              "      --bg-color: #E8F0FE;\n",
              "      --fill-color: #1967D2;\n",
              "      --hover-bg-color: #E2EBFA;\n",
              "      --hover-fill-color: #174EA6;\n",
              "      --disabled-fill-color: #AAA;\n",
              "      --disabled-bg-color: #DDD;\n",
              "  }\n",
              "\n",
              "  [theme=dark] .colab-df-quickchart {\n",
              "      --bg-color: #3B4455;\n",
              "      --fill-color: #D2E3FC;\n",
              "      --hover-bg-color: #434B5C;\n",
              "      --hover-fill-color: #FFFFFF;\n",
              "      --disabled-bg-color: #3B4455;\n",
              "      --disabled-fill-color: #666;\n",
              "  }\n",
              "\n",
              "  .colab-df-quickchart {\n",
              "    background-color: var(--bg-color);\n",
              "    border: none;\n",
              "    border-radius: 50%;\n",
              "    cursor: pointer;\n",
              "    display: none;\n",
              "    fill: var(--fill-color);\n",
              "    height: 32px;\n",
              "    padding: 0;\n",
              "    width: 32px;\n",
              "  }\n",
              "\n",
              "  .colab-df-quickchart:hover {\n",
              "    background-color: var(--hover-bg-color);\n",
              "    box-shadow: 0 1px 2px rgba(60, 64, 67, 0.3), 0 1px 3px 1px rgba(60, 64, 67, 0.15);\n",
              "    fill: var(--button-hover-fill-color);\n",
              "  }\n",
              "\n",
              "  .colab-df-quickchart-complete:disabled,\n",
              "  .colab-df-quickchart-complete:disabled:hover {\n",
              "    background-color: var(--disabled-bg-color);\n",
              "    fill: var(--disabled-fill-color);\n",
              "    box-shadow: none;\n",
              "  }\n",
              "\n",
              "  .colab-df-spinner {\n",
              "    border: 2px solid var(--fill-color);\n",
              "    border-color: transparent;\n",
              "    border-bottom-color: var(--fill-color);\n",
              "    animation:\n",
              "      spin 1s steps(1) infinite;\n",
              "  }\n",
              "\n",
              "  @keyframes spin {\n",
              "    0% {\n",
              "      border-color: transparent;\n",
              "      border-bottom-color: var(--fill-color);\n",
              "      border-left-color: var(--fill-color);\n",
              "    }\n",
              "    20% {\n",
              "      border-color: transparent;\n",
              "      border-left-color: var(--fill-color);\n",
              "      border-top-color: var(--fill-color);\n",
              "    }\n",
              "    30% {\n",
              "      border-color: transparent;\n",
              "      border-left-color: var(--fill-color);\n",
              "      border-top-color: var(--fill-color);\n",
              "      border-right-color: var(--fill-color);\n",
              "    }\n",
              "    40% {\n",
              "      border-color: transparent;\n",
              "      border-right-color: var(--fill-color);\n",
              "      border-top-color: var(--fill-color);\n",
              "    }\n",
              "    60% {\n",
              "      border-color: transparent;\n",
              "      border-right-color: var(--fill-color);\n",
              "    }\n",
              "    80% {\n",
              "      border-color: transparent;\n",
              "      border-right-color: var(--fill-color);\n",
              "      border-bottom-color: var(--fill-color);\n",
              "    }\n",
              "    90% {\n",
              "      border-color: transparent;\n",
              "      border-bottom-color: var(--fill-color);\n",
              "    }\n",
              "  }\n",
              "</style>\n",
              "\n",
              "  <script>\n",
              "    async function quickchart(key) {\n",
              "      const quickchartButtonEl =\n",
              "        document.querySelector('#' + key + ' button');\n",
              "      quickchartButtonEl.disabled = true;  // To prevent multiple clicks.\n",
              "      quickchartButtonEl.classList.add('colab-df-spinner');\n",
              "      try {\n",
              "        const charts = await google.colab.kernel.invokeFunction(\n",
              "            'suggestCharts', [key], {});\n",
              "      } catch (error) {\n",
              "        console.error('Error during call to suggestCharts:', error);\n",
              "      }\n",
              "      quickchartButtonEl.classList.remove('colab-df-spinner');\n",
              "      quickchartButtonEl.classList.add('colab-df-quickchart-complete');\n",
              "    }\n",
              "    (() => {\n",
              "      let quickchartButtonEl =\n",
              "        document.querySelector('#df-3c7f8aa7-3a4c-440f-979f-60a7f4dc6970 button');\n",
              "      quickchartButtonEl.style.display =\n",
              "        google.colab.kernel.accessAllowed ? 'block' : 'none';\n",
              "    })();\n",
              "  </script>\n",
              "</div>\n",
              "    </div>\n",
              "  </div>\n"
            ],
            "application/vnd.google.colaboratory.intrinsic+json": {
              "type": "dataframe",
              "variable_name": "df_2",
              "summary": "{\n  \"name\": \"df_2\",\n  \"rows\": 20803,\n  \"fields\": [\n    {\n      \"column\": \"Unnamed: 0\",\n      \"properties\": {\n        \"dtype\": \"number\",\n        \"std\": 6005,\n        \"min\": 0,\n        \"max\": 20802,\n        \"num_unique_values\": 20803,\n        \"samples\": [\n          17609,\n          11341,\n          15324\n        ],\n        \"semantic_type\": \"\",\n        \"description\": \"\"\n      }\n    },\n    {\n      \"column\": \"name\",\n      \"properties\": {\n        \"dtype\": \"string\",\n        \"num_unique_values\": 19714,\n        \"samples\": [\n          \"Snow Bros.: Nick & Tom\",\n          \"Kitaria Fables\",\n          \"Yakuza\"\n        ],\n        \"semantic_type\": \"\",\n        \"description\": \"\"\n      }\n    },\n    {\n      \"column\": \"url\",\n      \"properties\": {\n        \"dtype\": \"string\",\n        \"num_unique_values\": 20157,\n        \"samples\": [\n          \"https://www.imdb.com/title/tt5796276/?ref_=adv_li_tt\",\n          \"https://www.imdb.com/title/tt7446944/?ref_=adv_li_tt\",\n          \"https://www.imdb.com/title/tt17488172/?ref_=adv_li_tt\"\n        ],\n        \"semantic_type\": \"\",\n        \"description\": \"\"\n      }\n    },\n    {\n      \"column\": \"year\",\n      \"properties\": {\n        \"dtype\": \"number\",\n        \"std\": 11.846028115699447,\n        \"min\": 1952.0,\n        \"max\": 2027.0,\n        \"num_unique_values\": 61,\n        \"samples\": [\n          2018.0,\n          2019.0,\n          1978.0\n        ],\n        \"semantic_type\": \"\",\n        \"description\": \"\"\n      }\n    },\n    {\n      \"column\": \"certificate\",\n      \"properties\": {\n        \"dtype\": \"category\",\n        \"num_unique_values\": 21,\n        \"samples\": [\n          \"T\",\n          \"PG\",\n          \"G\"\n        ],\n        \"semantic_type\": \"\",\n        \"description\": \"\"\n      }\n    },\n    {\n      \"column\": \"rating\",\n      \"properties\": {\n        \"dtype\": \"number\",\n        \"std\": 1.235203973142458,\n        \"min\": 1.0,\n        \"max\": 9.7,\n        \"num_unique_values\": 86,\n        \"samples\": [\n          3.3,\n          9.2,\n          3.0\n        ],\n        \"semantic_type\": \"\",\n        \"description\": \"\"\n      }\n    },\n    {\n      \"column\": \"votes\",\n      \"properties\": {\n        \"dtype\": \"category\",\n        \"num_unique_values\": 1905,\n        \"samples\": [\n          \"814\",\n          \"4,182\",\n          \"4,167\"\n        ],\n        \"semantic_type\": \"\",\n        \"description\": \"\"\n      }\n    },\n    {\n      \"column\": \"plot\",\n      \"properties\": {\n        \"dtype\": \"string\",\n        \"num_unique_values\": 11276,\n        \"samples\": [\n          \"A militant group named Rayonne forcing all humans to \\\"Integration\\\", in which a human brain is transferred to a robotic armature. Romer Shoal leads a small band of outlaws to fight back against them to \\\"reboot humanity\\\".\",\n          \"You play either the Soviet or Allied side as you battle against the mad scientist Yuri.\",\n          \"Explore the dreams of a reclusive and mysterious little girl named Madotsuki, and encounter a number of surrealistic horror creatures and locations.\"\n        ],\n        \"semantic_type\": \"\",\n        \"description\": \"\"\n      }\n    },\n    {\n      \"column\": \"Action\",\n      \"properties\": {\n        \"dtype\": \"boolean\",\n        \"num_unique_values\": 2,\n        \"samples\": [\n          false,\n          true\n        ],\n        \"semantic_type\": \"\",\n        \"description\": \"\"\n      }\n    },\n    {\n      \"column\": \"Adventure\",\n      \"properties\": {\n        \"dtype\": \"boolean\",\n        \"num_unique_values\": 2,\n        \"samples\": [\n          false,\n          true\n        ],\n        \"semantic_type\": \"\",\n        \"description\": \"\"\n      }\n    },\n    {\n      \"column\": \"Comedy\",\n      \"properties\": {\n        \"dtype\": \"boolean\",\n        \"num_unique_values\": 2,\n        \"samples\": [\n          true,\n          false\n        ],\n        \"semantic_type\": \"\",\n        \"description\": \"\"\n      }\n    },\n    {\n      \"column\": \"Crime\",\n      \"properties\": {\n        \"dtype\": \"boolean\",\n        \"num_unique_values\": 2,\n        \"samples\": [\n          true,\n          false\n        ],\n        \"semantic_type\": \"\",\n        \"description\": \"\"\n      }\n    },\n    {\n      \"column\": \"Family\",\n      \"properties\": {\n        \"dtype\": \"boolean\",\n        \"num_unique_values\": 2,\n        \"samples\": [\n          true,\n          false\n        ],\n        \"semantic_type\": \"\",\n        \"description\": \"\"\n      }\n    },\n    {\n      \"column\": \"Fantasy\",\n      \"properties\": {\n        \"dtype\": \"boolean\",\n        \"num_unique_values\": 2,\n        \"samples\": [\n          false,\n          true\n        ],\n        \"semantic_type\": \"\",\n        \"description\": \"\"\n      }\n    },\n    {\n      \"column\": \"Mystery\",\n      \"properties\": {\n        \"dtype\": \"boolean\",\n        \"num_unique_values\": 2,\n        \"samples\": [\n          true,\n          false\n        ],\n        \"semantic_type\": \"\",\n        \"description\": \"\"\n      }\n    },\n    {\n      \"column\": \"Sci-Fi\",\n      \"properties\": {\n        \"dtype\": \"boolean\",\n        \"num_unique_values\": 2,\n        \"samples\": [\n          true,\n          false\n        ],\n        \"semantic_type\": \"\",\n        \"description\": \"\"\n      }\n    },\n    {\n      \"column\": \"Thriller\",\n      \"properties\": {\n        \"dtype\": \"boolean\",\n        \"num_unique_values\": 2,\n        \"samples\": [\n          true,\n          false\n        ],\n        \"semantic_type\": \"\",\n        \"description\": \"\"\n      }\n    }\n  ]\n}"
            }
          },
          "metadata": {},
          "execution_count": 4
        }
      ],
      "source": [
        "df_2.head(3)"
      ]
    },
    {
      "cell_type": "markdown",
      "metadata": {
        "id": "7bpPLASZr5gx"
      },
      "source": [
        "### 1.2. Слияние данных в один датасет"
      ]
    },
    {
      "cell_type": "markdown",
      "metadata": {
        "id": "wBjN2y6CsIBf"
      },
      "source": [
        "Оба детасета содержат информацию о годе выхода игры. Подготовим признак для слияния."
      ]
    },
    {
      "cell_type": "code",
      "execution_count": 5,
      "metadata": {
        "id": "TK6UW0HskIXe"
      },
      "outputs": [],
      "source": [
        "df_1['year'] = df_1['Release_Date'].str[-4:]\n",
        "df_2.rename(columns={'name': 'Title'}, inplace=True)\n",
        "df_2 = df_2.dropna(subset=['year'])\n",
        "df_2['year'] = df_2['year'].astype(int)"
      ]
    },
    {
      "cell_type": "code",
      "execution_count": 6,
      "metadata": {
        "colab": {
          "base_uri": "https://localhost:8080/"
        },
        "id": "2mNaO7WQkJ-_",
        "outputId": "7fdf3fc8-bfd2-45e3-87e1-55235eea1fe6"
      },
      "outputs": [
        {
          "output_type": "execute_result",
          "data": {
            "text/plain": [
              "array(['2022', '2017', '2018', '2015', '2011', '2020', '2023', '2019',\n",
              "       '2021', '2007', '2013', '2016', '1996', '1997', '2012', '2010',\n",
              "       '2001', '2005', '2009', '1998', '1995', '1990', '2000', '1985',\n",
              "       '1994', '2004', '2006', '2002', '1991', '1999', '2014', '2008',\n",
              "       '1988', '1993', '2003', '1992', '1986', '1989', '1987', 'TBD',\n",
              "       '1980', '2024', '1981', '2025', '1984', '1972', '1983', '1982',\n",
              "       '1978', '1979', '1971', '1977', '2029', '1954', '1973', '1976',\n",
              "       '1974', '1952', '1975'], dtype=object)"
            ]
          },
          "metadata": {},
          "execution_count": 6
        }
      ],
      "source": [
        "df_1['year'].unique()"
      ]
    },
    {
      "cell_type": "code",
      "execution_count": 7,
      "metadata": {
        "colab": {
          "base_uri": "https://localhost:8080/"
        },
        "id": "QVtJBrOZs0Ah",
        "outputId": "3a30f155-b6bc-4d68-fa87-ddca5fcee128"
      },
      "outputs": [
        {
          "output_type": "execute_result",
          "data": {
            "text/plain": [
              "array([2018, 2013, 2016, 2020, 2022, 2019, 2007, 2015, 2021, 2004, 2012,\n",
              "       2002, 2009, 2010, 2008, 2017, 2011, 2023, 2014, 2005, 2001, 2025,\n",
              "       2006, 2003, 1996, 1998, 1997, 1995, 1999, 1987, 1993, 2024, 2000,\n",
              "       1994, 1985, 1991, 1981, 1992, 1983, 1990, 1986, 1989, 1988, 2027,\n",
              "       1984, 1982, 1978, 1976, 1980, 1979, 1974, 1971, 1952, 1962, 1977,\n",
              "       1972, 1973, 1975, 1970, 1964, 1969])"
            ]
          },
          "metadata": {},
          "execution_count": 7
        }
      ],
      "source": [
        "df_2['year'].unique()"
      ]
    },
    {
      "cell_type": "markdown",
      "metadata": {
        "id": "hRRIziKpsrr1"
      },
      "source": [
        "Первый датасет содержит пропуски по признаку \"year\". С учётом этого преобразуем эти данные к числовому формату."
      ]
    },
    {
      "cell_type": "code",
      "execution_count": 8,
      "metadata": {
        "id": "Yl30hUOjkMiF"
      },
      "outputs": [],
      "source": [
        "df_1 = df_1[df_1['year'] != 'TBD']\n",
        "df_1['year'] = df_1['year'].astype(int)"
      ]
    },
    {
      "cell_type": "markdown",
      "metadata": {
        "id": "3I4zgluitUrx"
      },
      "source": [
        "Слияние следует проводить по названию игры (Title) и году выпуска (year), так как по некоторым играм могли выходить ремейки под тем же названием. Так, например, в 2019 году выходил ремейк игры \"Resident Evil 2\", впервые вышедшей под этим тайтлом в 1998 году."
      ]
    },
    {
      "cell_type": "code",
      "execution_count": 9,
      "metadata": {
        "colab": {
          "base_uri": "https://localhost:8080/",
          "height": 0
        },
        "id": "Vkj8zbCdxFKq",
        "outputId": "2b8749c5-7df8-4daf-a53d-6852efd974ed"
      },
      "outputs": [
        {
          "output_type": "execute_result",
          "data": {
            "text/plain": [
              "     Unnamed: 0            Title  Release_Date  \\\n",
              "38           38  Resident Evil 2  Jan 25, 2019   \n",
              "391         391  Resident Evil 2  Jan 21, 1998   \n",
              "\n",
              "                                      Developers  \\\n",
              "38   ['Capcom', 'Capcom Development Division 1']   \n",
              "391                       ['Capcom', 'Factor 5']   \n",
              "\n",
              "                                               Summary  \\\n",
              "38   Resident Evil 2 is a remake of 1998's Resident...   \n",
              "391  Resident Evil 2 is a sequel to the first Resid...   \n",
              "\n",
              "                                             Platforms  \\\n",
              "38   ['Windows PC', 'PlayStation 4', 'Xbox One', 'P...   \n",
              "391  ['Windows PC', 'Nintendo GameCube', 'PlayStati...   \n",
              "\n",
              "                       Genres  Rating Plays Playing Backlogs Wishlist Lists  \\\n",
              "38   ['Adventure', 'Shooter']     4.3   19K     737     4.3K     2.2K  3.1K   \n",
              "391  ['Adventure', 'Shooter']     4.2  6.3K      71     1.3K      691  1.4K   \n",
              "\n",
              "    Reviews  year  \n",
              "38     1.3K  2019  \n",
              "391     293  1998  "
            ],
            "text/html": [
              "\n",
              "  <div id=\"df-575f9e29-26ae-4662-9358-cb6c16d9c1ce\" class=\"colab-df-container\">\n",
              "    <div>\n",
              "<style scoped>\n",
              "    .dataframe tbody tr th:only-of-type {\n",
              "        vertical-align: middle;\n",
              "    }\n",
              "\n",
              "    .dataframe tbody tr th {\n",
              "        vertical-align: top;\n",
              "    }\n",
              "\n",
              "    .dataframe thead th {\n",
              "        text-align: right;\n",
              "    }\n",
              "</style>\n",
              "<table border=\"1\" class=\"dataframe\">\n",
              "  <thead>\n",
              "    <tr style=\"text-align: right;\">\n",
              "      <th></th>\n",
              "      <th>Unnamed: 0</th>\n",
              "      <th>Title</th>\n",
              "      <th>Release_Date</th>\n",
              "      <th>Developers</th>\n",
              "      <th>Summary</th>\n",
              "      <th>Platforms</th>\n",
              "      <th>Genres</th>\n",
              "      <th>Rating</th>\n",
              "      <th>Plays</th>\n",
              "      <th>Playing</th>\n",
              "      <th>Backlogs</th>\n",
              "      <th>Wishlist</th>\n",
              "      <th>Lists</th>\n",
              "      <th>Reviews</th>\n",
              "      <th>year</th>\n",
              "    </tr>\n",
              "  </thead>\n",
              "  <tbody>\n",
              "    <tr>\n",
              "      <th>38</th>\n",
              "      <td>38</td>\n",
              "      <td>Resident Evil 2</td>\n",
              "      <td>Jan 25, 2019</td>\n",
              "      <td>['Capcom', 'Capcom Development Division 1']</td>\n",
              "      <td>Resident Evil 2 is a remake of 1998's Resident...</td>\n",
              "      <td>['Windows PC', 'PlayStation 4', 'Xbox One', 'P...</td>\n",
              "      <td>['Adventure', 'Shooter']</td>\n",
              "      <td>4.3</td>\n",
              "      <td>19K</td>\n",
              "      <td>737</td>\n",
              "      <td>4.3K</td>\n",
              "      <td>2.2K</td>\n",
              "      <td>3.1K</td>\n",
              "      <td>1.3K</td>\n",
              "      <td>2019</td>\n",
              "    </tr>\n",
              "    <tr>\n",
              "      <th>391</th>\n",
              "      <td>391</td>\n",
              "      <td>Resident Evil 2</td>\n",
              "      <td>Jan 21, 1998</td>\n",
              "      <td>['Capcom', 'Factor 5']</td>\n",
              "      <td>Resident Evil 2 is a sequel to the first Resid...</td>\n",
              "      <td>['Windows PC', 'Nintendo GameCube', 'PlayStati...</td>\n",
              "      <td>['Adventure', 'Shooter']</td>\n",
              "      <td>4.2</td>\n",
              "      <td>6.3K</td>\n",
              "      <td>71</td>\n",
              "      <td>1.3K</td>\n",
              "      <td>691</td>\n",
              "      <td>1.4K</td>\n",
              "      <td>293</td>\n",
              "      <td>1998</td>\n",
              "    </tr>\n",
              "  </tbody>\n",
              "</table>\n",
              "</div>\n",
              "    <div class=\"colab-df-buttons\">\n",
              "\n",
              "  <div class=\"colab-df-container\">\n",
              "    <button class=\"colab-df-convert\" onclick=\"convertToInteractive('df-575f9e29-26ae-4662-9358-cb6c16d9c1ce')\"\n",
              "            title=\"Convert this dataframe to an interactive table.\"\n",
              "            style=\"display:none;\">\n",
              "\n",
              "  <svg xmlns=\"http://www.w3.org/2000/svg\" height=\"24px\" viewBox=\"0 -960 960 960\">\n",
              "    <path d=\"M120-120v-720h720v720H120Zm60-500h600v-160H180v160Zm220 220h160v-160H400v160Zm0 220h160v-160H400v160ZM180-400h160v-160H180v160Zm440 0h160v-160H620v160ZM180-180h160v-160H180v160Zm440 0h160v-160H620v160Z\"/>\n",
              "  </svg>\n",
              "    </button>\n",
              "\n",
              "  <style>\n",
              "    .colab-df-container {\n",
              "      display:flex;\n",
              "      gap: 12px;\n",
              "    }\n",
              "\n",
              "    .colab-df-convert {\n",
              "      background-color: #E8F0FE;\n",
              "      border: none;\n",
              "      border-radius: 50%;\n",
              "      cursor: pointer;\n",
              "      display: none;\n",
              "      fill: #1967D2;\n",
              "      height: 32px;\n",
              "      padding: 0 0 0 0;\n",
              "      width: 32px;\n",
              "    }\n",
              "\n",
              "    .colab-df-convert:hover {\n",
              "      background-color: #E2EBFA;\n",
              "      box-shadow: 0px 1px 2px rgba(60, 64, 67, 0.3), 0px 1px 3px 1px rgba(60, 64, 67, 0.15);\n",
              "      fill: #174EA6;\n",
              "    }\n",
              "\n",
              "    .colab-df-buttons div {\n",
              "      margin-bottom: 4px;\n",
              "    }\n",
              "\n",
              "    [theme=dark] .colab-df-convert {\n",
              "      background-color: #3B4455;\n",
              "      fill: #D2E3FC;\n",
              "    }\n",
              "\n",
              "    [theme=dark] .colab-df-convert:hover {\n",
              "      background-color: #434B5C;\n",
              "      box-shadow: 0px 1px 3px 1px rgba(0, 0, 0, 0.15);\n",
              "      filter: drop-shadow(0px 1px 2px rgba(0, 0, 0, 0.3));\n",
              "      fill: #FFFFFF;\n",
              "    }\n",
              "  </style>\n",
              "\n",
              "    <script>\n",
              "      const buttonEl =\n",
              "        document.querySelector('#df-575f9e29-26ae-4662-9358-cb6c16d9c1ce button.colab-df-convert');\n",
              "      buttonEl.style.display =\n",
              "        google.colab.kernel.accessAllowed ? 'block' : 'none';\n",
              "\n",
              "      async function convertToInteractive(key) {\n",
              "        const element = document.querySelector('#df-575f9e29-26ae-4662-9358-cb6c16d9c1ce');\n",
              "        const dataTable =\n",
              "          await google.colab.kernel.invokeFunction('convertToInteractive',\n",
              "                                                    [key], {});\n",
              "        if (!dataTable) return;\n",
              "\n",
              "        const docLinkHtml = 'Like what you see? Visit the ' +\n",
              "          '<a target=\"_blank\" href=https://colab.research.google.com/notebooks/data_table.ipynb>data table notebook</a>'\n",
              "          + ' to learn more about interactive tables.';\n",
              "        element.innerHTML = '';\n",
              "        dataTable['output_type'] = 'display_data';\n",
              "        await google.colab.output.renderOutput(dataTable, element);\n",
              "        const docLink = document.createElement('div');\n",
              "        docLink.innerHTML = docLinkHtml;\n",
              "        element.appendChild(docLink);\n",
              "      }\n",
              "    </script>\n",
              "  </div>\n",
              "\n",
              "\n",
              "<div id=\"df-6e409dc1-9e70-49a1-b19f-bb438262ca2d\">\n",
              "  <button class=\"colab-df-quickchart\" onclick=\"quickchart('df-6e409dc1-9e70-49a1-b19f-bb438262ca2d')\"\n",
              "            title=\"Suggest charts\"\n",
              "            style=\"display:none;\">\n",
              "\n",
              "<svg xmlns=\"http://www.w3.org/2000/svg\" height=\"24px\"viewBox=\"0 0 24 24\"\n",
              "     width=\"24px\">\n",
              "    <g>\n",
              "        <path d=\"M19 3H5c-1.1 0-2 .9-2 2v14c0 1.1.9 2 2 2h14c1.1 0 2-.9 2-2V5c0-1.1-.9-2-2-2zM9 17H7v-7h2v7zm4 0h-2V7h2v10zm4 0h-2v-4h2v4z\"/>\n",
              "    </g>\n",
              "</svg>\n",
              "  </button>\n",
              "\n",
              "<style>\n",
              "  .colab-df-quickchart {\n",
              "      --bg-color: #E8F0FE;\n",
              "      --fill-color: #1967D2;\n",
              "      --hover-bg-color: #E2EBFA;\n",
              "      --hover-fill-color: #174EA6;\n",
              "      --disabled-fill-color: #AAA;\n",
              "      --disabled-bg-color: #DDD;\n",
              "  }\n",
              "\n",
              "  [theme=dark] .colab-df-quickchart {\n",
              "      --bg-color: #3B4455;\n",
              "      --fill-color: #D2E3FC;\n",
              "      --hover-bg-color: #434B5C;\n",
              "      --hover-fill-color: #FFFFFF;\n",
              "      --disabled-bg-color: #3B4455;\n",
              "      --disabled-fill-color: #666;\n",
              "  }\n",
              "\n",
              "  .colab-df-quickchart {\n",
              "    background-color: var(--bg-color);\n",
              "    border: none;\n",
              "    border-radius: 50%;\n",
              "    cursor: pointer;\n",
              "    display: none;\n",
              "    fill: var(--fill-color);\n",
              "    height: 32px;\n",
              "    padding: 0;\n",
              "    width: 32px;\n",
              "  }\n",
              "\n",
              "  .colab-df-quickchart:hover {\n",
              "    background-color: var(--hover-bg-color);\n",
              "    box-shadow: 0 1px 2px rgba(60, 64, 67, 0.3), 0 1px 3px 1px rgba(60, 64, 67, 0.15);\n",
              "    fill: var(--button-hover-fill-color);\n",
              "  }\n",
              "\n",
              "  .colab-df-quickchart-complete:disabled,\n",
              "  .colab-df-quickchart-complete:disabled:hover {\n",
              "    background-color: var(--disabled-bg-color);\n",
              "    fill: var(--disabled-fill-color);\n",
              "    box-shadow: none;\n",
              "  }\n",
              "\n",
              "  .colab-df-spinner {\n",
              "    border: 2px solid var(--fill-color);\n",
              "    border-color: transparent;\n",
              "    border-bottom-color: var(--fill-color);\n",
              "    animation:\n",
              "      spin 1s steps(1) infinite;\n",
              "  }\n",
              "\n",
              "  @keyframes spin {\n",
              "    0% {\n",
              "      border-color: transparent;\n",
              "      border-bottom-color: var(--fill-color);\n",
              "      border-left-color: var(--fill-color);\n",
              "    }\n",
              "    20% {\n",
              "      border-color: transparent;\n",
              "      border-left-color: var(--fill-color);\n",
              "      border-top-color: var(--fill-color);\n",
              "    }\n",
              "    30% {\n",
              "      border-color: transparent;\n",
              "      border-left-color: var(--fill-color);\n",
              "      border-top-color: var(--fill-color);\n",
              "      border-right-color: var(--fill-color);\n",
              "    }\n",
              "    40% {\n",
              "      border-color: transparent;\n",
              "      border-right-color: var(--fill-color);\n",
              "      border-top-color: var(--fill-color);\n",
              "    }\n",
              "    60% {\n",
              "      border-color: transparent;\n",
              "      border-right-color: var(--fill-color);\n",
              "    }\n",
              "    80% {\n",
              "      border-color: transparent;\n",
              "      border-right-color: var(--fill-color);\n",
              "      border-bottom-color: var(--fill-color);\n",
              "    }\n",
              "    90% {\n",
              "      border-color: transparent;\n",
              "      border-bottom-color: var(--fill-color);\n",
              "    }\n",
              "  }\n",
              "</style>\n",
              "\n",
              "  <script>\n",
              "    async function quickchart(key) {\n",
              "      const quickchartButtonEl =\n",
              "        document.querySelector('#' + key + ' button');\n",
              "      quickchartButtonEl.disabled = true;  // To prevent multiple clicks.\n",
              "      quickchartButtonEl.classList.add('colab-df-spinner');\n",
              "      try {\n",
              "        const charts = await google.colab.kernel.invokeFunction(\n",
              "            'suggestCharts', [key], {});\n",
              "      } catch (error) {\n",
              "        console.error('Error during call to suggestCharts:', error);\n",
              "      }\n",
              "      quickchartButtonEl.classList.remove('colab-df-spinner');\n",
              "      quickchartButtonEl.classList.add('colab-df-quickchart-complete');\n",
              "    }\n",
              "    (() => {\n",
              "      let quickchartButtonEl =\n",
              "        document.querySelector('#df-6e409dc1-9e70-49a1-b19f-bb438262ca2d button');\n",
              "      quickchartButtonEl.style.display =\n",
              "        google.colab.kernel.accessAllowed ? 'block' : 'none';\n",
              "    })();\n",
              "  </script>\n",
              "</div>\n",
              "    </div>\n",
              "  </div>\n"
            ],
            "application/vnd.google.colaboratory.intrinsic+json": {
              "type": "dataframe",
              "repr_error": "0"
            }
          },
          "metadata": {},
          "execution_count": 9
        }
      ],
      "source": [
        "df_1[df_1['Title'] == 'Resident Evil 2']"
      ]
    },
    {
      "cell_type": "code",
      "execution_count": 10,
      "metadata": {
        "colab": {
          "base_uri": "https://localhost:8080/",
          "height": 0
        },
        "id": "FMbdImcBco3F",
        "outputId": "33977055-5d88-4631-9291-56a6af24d84e"
      },
      "outputs": [
        {
          "output_type": "execute_result",
          "data": {
            "text/plain": [
              "     Unnamed: 0            Title  \\\n",
              "97           97  Resident Evil 2   \n",
              "332         332  Resident Evil 2   \n",
              "\n",
              "                                                   url  year certificate  \\\n",
              "97   https://www.imdb.com/title/tt7826034/?ref_=adv...  2019           M   \n",
              "332  https://www.imdb.com/title/tt0161941/?ref_=adv...  1998           M   \n",
              "\n",
              "     rating  votes                                               plot  Action  \\\n",
              "97      9.1  7,029  Re-imagining of Resident Evil 2 (1998), with a...    True   \n",
              "332     9.1  5,873  Two months after the mansion events, the deadl...    True   \n",
              "\n",
              "     Adventure  Comedy  Crime  Family  Fantasy  Mystery  Sci-Fi  Thriller  \n",
              "97       False   False  False   False    False    False    True     False  \n",
              "332      False   False  False   False    False    False    True     False  "
            ],
            "text/html": [
              "\n",
              "  <div id=\"df-7b82ab23-cb85-41da-b28c-ff2027f4ffdf\" class=\"colab-df-container\">\n",
              "    <div>\n",
              "<style scoped>\n",
              "    .dataframe tbody tr th:only-of-type {\n",
              "        vertical-align: middle;\n",
              "    }\n",
              "\n",
              "    .dataframe tbody tr th {\n",
              "        vertical-align: top;\n",
              "    }\n",
              "\n",
              "    .dataframe thead th {\n",
              "        text-align: right;\n",
              "    }\n",
              "</style>\n",
              "<table border=\"1\" class=\"dataframe\">\n",
              "  <thead>\n",
              "    <tr style=\"text-align: right;\">\n",
              "      <th></th>\n",
              "      <th>Unnamed: 0</th>\n",
              "      <th>Title</th>\n",
              "      <th>url</th>\n",
              "      <th>year</th>\n",
              "      <th>certificate</th>\n",
              "      <th>rating</th>\n",
              "      <th>votes</th>\n",
              "      <th>plot</th>\n",
              "      <th>Action</th>\n",
              "      <th>Adventure</th>\n",
              "      <th>Comedy</th>\n",
              "      <th>Crime</th>\n",
              "      <th>Family</th>\n",
              "      <th>Fantasy</th>\n",
              "      <th>Mystery</th>\n",
              "      <th>Sci-Fi</th>\n",
              "      <th>Thriller</th>\n",
              "    </tr>\n",
              "  </thead>\n",
              "  <tbody>\n",
              "    <tr>\n",
              "      <th>97</th>\n",
              "      <td>97</td>\n",
              "      <td>Resident Evil 2</td>\n",
              "      <td>https://www.imdb.com/title/tt7826034/?ref_=adv...</td>\n",
              "      <td>2019</td>\n",
              "      <td>M</td>\n",
              "      <td>9.1</td>\n",
              "      <td>7,029</td>\n",
              "      <td>Re-imagining of Resident Evil 2 (1998), with a...</td>\n",
              "      <td>True</td>\n",
              "      <td>False</td>\n",
              "      <td>False</td>\n",
              "      <td>False</td>\n",
              "      <td>False</td>\n",
              "      <td>False</td>\n",
              "      <td>False</td>\n",
              "      <td>True</td>\n",
              "      <td>False</td>\n",
              "    </tr>\n",
              "    <tr>\n",
              "      <th>332</th>\n",
              "      <td>332</td>\n",
              "      <td>Resident Evil 2</td>\n",
              "      <td>https://www.imdb.com/title/tt0161941/?ref_=adv...</td>\n",
              "      <td>1998</td>\n",
              "      <td>M</td>\n",
              "      <td>9.1</td>\n",
              "      <td>5,873</td>\n",
              "      <td>Two months after the mansion events, the deadl...</td>\n",
              "      <td>True</td>\n",
              "      <td>False</td>\n",
              "      <td>False</td>\n",
              "      <td>False</td>\n",
              "      <td>False</td>\n",
              "      <td>False</td>\n",
              "      <td>False</td>\n",
              "      <td>True</td>\n",
              "      <td>False</td>\n",
              "    </tr>\n",
              "  </tbody>\n",
              "</table>\n",
              "</div>\n",
              "    <div class=\"colab-df-buttons\">\n",
              "\n",
              "  <div class=\"colab-df-container\">\n",
              "    <button class=\"colab-df-convert\" onclick=\"convertToInteractive('df-7b82ab23-cb85-41da-b28c-ff2027f4ffdf')\"\n",
              "            title=\"Convert this dataframe to an interactive table.\"\n",
              "            style=\"display:none;\">\n",
              "\n",
              "  <svg xmlns=\"http://www.w3.org/2000/svg\" height=\"24px\" viewBox=\"0 -960 960 960\">\n",
              "    <path d=\"M120-120v-720h720v720H120Zm60-500h600v-160H180v160Zm220 220h160v-160H400v160Zm0 220h160v-160H400v160ZM180-400h160v-160H180v160Zm440 0h160v-160H620v160ZM180-180h160v-160H180v160Zm440 0h160v-160H620v160Z\"/>\n",
              "  </svg>\n",
              "    </button>\n",
              "\n",
              "  <style>\n",
              "    .colab-df-container {\n",
              "      display:flex;\n",
              "      gap: 12px;\n",
              "    }\n",
              "\n",
              "    .colab-df-convert {\n",
              "      background-color: #E8F0FE;\n",
              "      border: none;\n",
              "      border-radius: 50%;\n",
              "      cursor: pointer;\n",
              "      display: none;\n",
              "      fill: #1967D2;\n",
              "      height: 32px;\n",
              "      padding: 0 0 0 0;\n",
              "      width: 32px;\n",
              "    }\n",
              "\n",
              "    .colab-df-convert:hover {\n",
              "      background-color: #E2EBFA;\n",
              "      box-shadow: 0px 1px 2px rgba(60, 64, 67, 0.3), 0px 1px 3px 1px rgba(60, 64, 67, 0.15);\n",
              "      fill: #174EA6;\n",
              "    }\n",
              "\n",
              "    .colab-df-buttons div {\n",
              "      margin-bottom: 4px;\n",
              "    }\n",
              "\n",
              "    [theme=dark] .colab-df-convert {\n",
              "      background-color: #3B4455;\n",
              "      fill: #D2E3FC;\n",
              "    }\n",
              "\n",
              "    [theme=dark] .colab-df-convert:hover {\n",
              "      background-color: #434B5C;\n",
              "      box-shadow: 0px 1px 3px 1px rgba(0, 0, 0, 0.15);\n",
              "      filter: drop-shadow(0px 1px 2px rgba(0, 0, 0, 0.3));\n",
              "      fill: #FFFFFF;\n",
              "    }\n",
              "  </style>\n",
              "\n",
              "    <script>\n",
              "      const buttonEl =\n",
              "        document.querySelector('#df-7b82ab23-cb85-41da-b28c-ff2027f4ffdf button.colab-df-convert');\n",
              "      buttonEl.style.display =\n",
              "        google.colab.kernel.accessAllowed ? 'block' : 'none';\n",
              "\n",
              "      async function convertToInteractive(key) {\n",
              "        const element = document.querySelector('#df-7b82ab23-cb85-41da-b28c-ff2027f4ffdf');\n",
              "        const dataTable =\n",
              "          await google.colab.kernel.invokeFunction('convertToInteractive',\n",
              "                                                    [key], {});\n",
              "        if (!dataTable) return;\n",
              "\n",
              "        const docLinkHtml = 'Like what you see? Visit the ' +\n",
              "          '<a target=\"_blank\" href=https://colab.research.google.com/notebooks/data_table.ipynb>data table notebook</a>'\n",
              "          + ' to learn more about interactive tables.';\n",
              "        element.innerHTML = '';\n",
              "        dataTable['output_type'] = 'display_data';\n",
              "        await google.colab.output.renderOutput(dataTable, element);\n",
              "        const docLink = document.createElement('div');\n",
              "        docLink.innerHTML = docLinkHtml;\n",
              "        element.appendChild(docLink);\n",
              "      }\n",
              "    </script>\n",
              "  </div>\n",
              "\n",
              "\n",
              "<div id=\"df-b6d712f7-b42d-4100-89de-11f4b426cec5\">\n",
              "  <button class=\"colab-df-quickchart\" onclick=\"quickchart('df-b6d712f7-b42d-4100-89de-11f4b426cec5')\"\n",
              "            title=\"Suggest charts\"\n",
              "            style=\"display:none;\">\n",
              "\n",
              "<svg xmlns=\"http://www.w3.org/2000/svg\" height=\"24px\"viewBox=\"0 0 24 24\"\n",
              "     width=\"24px\">\n",
              "    <g>\n",
              "        <path d=\"M19 3H5c-1.1 0-2 .9-2 2v14c0 1.1.9 2 2 2h14c1.1 0 2-.9 2-2V5c0-1.1-.9-2-2-2zM9 17H7v-7h2v7zm4 0h-2V7h2v10zm4 0h-2v-4h2v4z\"/>\n",
              "    </g>\n",
              "</svg>\n",
              "  </button>\n",
              "\n",
              "<style>\n",
              "  .colab-df-quickchart {\n",
              "      --bg-color: #E8F0FE;\n",
              "      --fill-color: #1967D2;\n",
              "      --hover-bg-color: #E2EBFA;\n",
              "      --hover-fill-color: #174EA6;\n",
              "      --disabled-fill-color: #AAA;\n",
              "      --disabled-bg-color: #DDD;\n",
              "  }\n",
              "\n",
              "  [theme=dark] .colab-df-quickchart {\n",
              "      --bg-color: #3B4455;\n",
              "      --fill-color: #D2E3FC;\n",
              "      --hover-bg-color: #434B5C;\n",
              "      --hover-fill-color: #FFFFFF;\n",
              "      --disabled-bg-color: #3B4455;\n",
              "      --disabled-fill-color: #666;\n",
              "  }\n",
              "\n",
              "  .colab-df-quickchart {\n",
              "    background-color: var(--bg-color);\n",
              "    border: none;\n",
              "    border-radius: 50%;\n",
              "    cursor: pointer;\n",
              "    display: none;\n",
              "    fill: var(--fill-color);\n",
              "    height: 32px;\n",
              "    padding: 0;\n",
              "    width: 32px;\n",
              "  }\n",
              "\n",
              "  .colab-df-quickchart:hover {\n",
              "    background-color: var(--hover-bg-color);\n",
              "    box-shadow: 0 1px 2px rgba(60, 64, 67, 0.3), 0 1px 3px 1px rgba(60, 64, 67, 0.15);\n",
              "    fill: var(--button-hover-fill-color);\n",
              "  }\n",
              "\n",
              "  .colab-df-quickchart-complete:disabled,\n",
              "  .colab-df-quickchart-complete:disabled:hover {\n",
              "    background-color: var(--disabled-bg-color);\n",
              "    fill: var(--disabled-fill-color);\n",
              "    box-shadow: none;\n",
              "  }\n",
              "\n",
              "  .colab-df-spinner {\n",
              "    border: 2px solid var(--fill-color);\n",
              "    border-color: transparent;\n",
              "    border-bottom-color: var(--fill-color);\n",
              "    animation:\n",
              "      spin 1s steps(1) infinite;\n",
              "  }\n",
              "\n",
              "  @keyframes spin {\n",
              "    0% {\n",
              "      border-color: transparent;\n",
              "      border-bottom-color: var(--fill-color);\n",
              "      border-left-color: var(--fill-color);\n",
              "    }\n",
              "    20% {\n",
              "      border-color: transparent;\n",
              "      border-left-color: var(--fill-color);\n",
              "      border-top-color: var(--fill-color);\n",
              "    }\n",
              "    30% {\n",
              "      border-color: transparent;\n",
              "      border-left-color: var(--fill-color);\n",
              "      border-top-color: var(--fill-color);\n",
              "      border-right-color: var(--fill-color);\n",
              "    }\n",
              "    40% {\n",
              "      border-color: transparent;\n",
              "      border-right-color: var(--fill-color);\n",
              "      border-top-color: var(--fill-color);\n",
              "    }\n",
              "    60% {\n",
              "      border-color: transparent;\n",
              "      border-right-color: var(--fill-color);\n",
              "    }\n",
              "    80% {\n",
              "      border-color: transparent;\n",
              "      border-right-color: var(--fill-color);\n",
              "      border-bottom-color: var(--fill-color);\n",
              "    }\n",
              "    90% {\n",
              "      border-color: transparent;\n",
              "      border-bottom-color: var(--fill-color);\n",
              "    }\n",
              "  }\n",
              "</style>\n",
              "\n",
              "  <script>\n",
              "    async function quickchart(key) {\n",
              "      const quickchartButtonEl =\n",
              "        document.querySelector('#' + key + ' button');\n",
              "      quickchartButtonEl.disabled = true;  // To prevent multiple clicks.\n",
              "      quickchartButtonEl.classList.add('colab-df-spinner');\n",
              "      try {\n",
              "        const charts = await google.colab.kernel.invokeFunction(\n",
              "            'suggestCharts', [key], {});\n",
              "      } catch (error) {\n",
              "        console.error('Error during call to suggestCharts:', error);\n",
              "      }\n",
              "      quickchartButtonEl.classList.remove('colab-df-spinner');\n",
              "      quickchartButtonEl.classList.add('colab-df-quickchart-complete');\n",
              "    }\n",
              "    (() => {\n",
              "      let quickchartButtonEl =\n",
              "        document.querySelector('#df-b6d712f7-b42d-4100-89de-11f4b426cec5 button');\n",
              "      quickchartButtonEl.style.display =\n",
              "        google.colab.kernel.accessAllowed ? 'block' : 'none';\n",
              "    })();\n",
              "  </script>\n",
              "</div>\n",
              "    </div>\n",
              "  </div>\n"
            ],
            "application/vnd.google.colaboratory.intrinsic+json": {
              "type": "dataframe",
              "summary": "{\n  \"name\": \"df_2[df_2['Title'] == 'Resident Evil 2']\",\n  \"rows\": 2,\n  \"fields\": [\n    {\n      \"column\": \"Unnamed: 0\",\n      \"properties\": {\n        \"dtype\": \"number\",\n        \"std\": 166,\n        \"min\": 97,\n        \"max\": 332,\n        \"num_unique_values\": 2,\n        \"samples\": [\n          332,\n          97\n        ],\n        \"semantic_type\": \"\",\n        \"description\": \"\"\n      }\n    },\n    {\n      \"column\": \"Title\",\n      \"properties\": {\n        \"dtype\": \"string\",\n        \"num_unique_values\": 1,\n        \"samples\": [\n          \"Resident Evil 2\"\n        ],\n        \"semantic_type\": \"\",\n        \"description\": \"\"\n      }\n    },\n    {\n      \"column\": \"url\",\n      \"properties\": {\n        \"dtype\": \"string\",\n        \"num_unique_values\": 2,\n        \"samples\": [\n          \"https://www.imdb.com/title/tt0161941/?ref_=adv_li_tt\"\n        ],\n        \"semantic_type\": \"\",\n        \"description\": \"\"\n      }\n    },\n    {\n      \"column\": \"year\",\n      \"properties\": {\n        \"dtype\": \"number\",\n        \"std\": 14,\n        \"min\": 1998,\n        \"max\": 2019,\n        \"num_unique_values\": 2,\n        \"samples\": [\n          1998\n        ],\n        \"semantic_type\": \"\",\n        \"description\": \"\"\n      }\n    },\n    {\n      \"column\": \"certificate\",\n      \"properties\": {\n        \"dtype\": \"string\",\n        \"num_unique_values\": 1,\n        \"samples\": [\n          \"M\"\n        ],\n        \"semantic_type\": \"\",\n        \"description\": \"\"\n      }\n    },\n    {\n      \"column\": \"rating\",\n      \"properties\": {\n        \"dtype\": \"number\",\n        \"std\": 0.0,\n        \"min\": 9.1,\n        \"max\": 9.1,\n        \"num_unique_values\": 1,\n        \"samples\": [\n          9.1\n        ],\n        \"semantic_type\": \"\",\n        \"description\": \"\"\n      }\n    },\n    {\n      \"column\": \"votes\",\n      \"properties\": {\n        \"dtype\": \"string\",\n        \"num_unique_values\": 2,\n        \"samples\": [\n          \"5,873\"\n        ],\n        \"semantic_type\": \"\",\n        \"description\": \"\"\n      }\n    },\n    {\n      \"column\": \"plot\",\n      \"properties\": {\n        \"dtype\": \"string\",\n        \"num_unique_values\": 2,\n        \"samples\": [\n          \"Two months after the mansion events, the deadly T-virus escapes into the streets of Raccoon City. Leon Kennedy and Claire Redfield find the police office left abandoned. In an underground facility the story of Umbrella Corp. gets unfolded.\"\n        ],\n        \"semantic_type\": \"\",\n        \"description\": \"\"\n      }\n    },\n    {\n      \"column\": \"Action\",\n      \"properties\": {\n        \"dtype\": \"boolean\",\n        \"num_unique_values\": 1,\n        \"samples\": [\n          true\n        ],\n        \"semantic_type\": \"\",\n        \"description\": \"\"\n      }\n    },\n    {\n      \"column\": \"Adventure\",\n      \"properties\": {\n        \"dtype\": \"boolean\",\n        \"num_unique_values\": 1,\n        \"samples\": [\n          false\n        ],\n        \"semantic_type\": \"\",\n        \"description\": \"\"\n      }\n    },\n    {\n      \"column\": \"Comedy\",\n      \"properties\": {\n        \"dtype\": \"boolean\",\n        \"num_unique_values\": 1,\n        \"samples\": [\n          false\n        ],\n        \"semantic_type\": \"\",\n        \"description\": \"\"\n      }\n    },\n    {\n      \"column\": \"Crime\",\n      \"properties\": {\n        \"dtype\": \"boolean\",\n        \"num_unique_values\": 1,\n        \"samples\": [\n          false\n        ],\n        \"semantic_type\": \"\",\n        \"description\": \"\"\n      }\n    },\n    {\n      \"column\": \"Family\",\n      \"properties\": {\n        \"dtype\": \"boolean\",\n        \"num_unique_values\": 1,\n        \"samples\": [\n          false\n        ],\n        \"semantic_type\": \"\",\n        \"description\": \"\"\n      }\n    },\n    {\n      \"column\": \"Fantasy\",\n      \"properties\": {\n        \"dtype\": \"boolean\",\n        \"num_unique_values\": 1,\n        \"samples\": [\n          false\n        ],\n        \"semantic_type\": \"\",\n        \"description\": \"\"\n      }\n    },\n    {\n      \"column\": \"Mystery\",\n      \"properties\": {\n        \"dtype\": \"boolean\",\n        \"num_unique_values\": 1,\n        \"samples\": [\n          false\n        ],\n        \"semantic_type\": \"\",\n        \"description\": \"\"\n      }\n    },\n    {\n      \"column\": \"Sci-Fi\",\n      \"properties\": {\n        \"dtype\": \"boolean\",\n        \"num_unique_values\": 1,\n        \"samples\": [\n          true\n        ],\n        \"semantic_type\": \"\",\n        \"description\": \"\"\n      }\n    },\n    {\n      \"column\": \"Thriller\",\n      \"properties\": {\n        \"dtype\": \"boolean\",\n        \"num_unique_values\": 1,\n        \"samples\": [\n          false\n        ],\n        \"semantic_type\": \"\",\n        \"description\": \"\"\n      }\n    }\n  ]\n}"
            }
          },
          "metadata": {},
          "execution_count": 10
        }
      ],
      "source": [
        "df_2[df_2['Title'] == 'Resident Evil 2'].head(2)"
      ]
    },
    {
      "cell_type": "code",
      "execution_count": 11,
      "metadata": {
        "id": "4SYdeGKMkQ7l"
      },
      "outputs": [],
      "source": [
        "df = pd.merge(df_1, df_2, on=['Title', 'year'], how='inner')\n",
        "df.drop_duplicates(\"Unnamed: 0_x\", inplace=True)\n",
        "df.drop_duplicates(subset=['Title','Release_Date', 'Platforms'], inplace=True)\n",
        "df.reset_index(drop=True, inplace=True)\n",
        "\n",
        "df.rename(columns={'rating': 'imdb_rating', 'votes': 'imdb_votes'}, inplace=True)"
      ]
    },
    {
      "cell_type": "markdown",
      "metadata": {
        "id": "YY9A_X66VTvY"
      },
      "source": [
        "С точки зрения поставленной задачи будет некорректно предсказывать рейтинг по данным, сформированным уже после выхода игры. В соответствии с этим удалим ненужные признаки."
      ]
    },
    {
      "cell_type": "code",
      "execution_count": 12,
      "metadata": {
        "id": "gCn9Mk-xVTvZ"
      },
      "outputs": [],
      "source": [
        "df.drop(['Unnamed: 0_x', 'Unnamed: 0_y', 'Release_Date', 'Plays', 'Playing', 'Backlogs', 'Wishlist', 'Lists', 'Reviews', 'year', 'url', 'imdb_rating', 'imdb_votes'], axis=1, inplace=True)"
      ]
    },
    {
      "cell_type": "markdown",
      "metadata": {
        "id": "2AlIcguZuFwA"
      },
      "source": [
        "## 2. Обработка данных"
      ]
    },
    {
      "cell_type": "code",
      "execution_count": 13,
      "metadata": {
        "colab": {
          "base_uri": "https://localhost:8080/"
        },
        "id": "J1rniQlPkavt",
        "outputId": "8e8f13c6-4abd-472f-f9db-d6c8b0b3e2ec"
      },
      "outputs": [
        {
          "output_type": "stream",
          "name": "stdout",
          "text": [
            "<class 'pandas.core.frame.DataFrame'>\n",
            "RangeIndex: 6698 entries, 0 to 6697\n",
            "Data columns (total 17 columns):\n",
            " #   Column       Non-Null Count  Dtype  \n",
            "---  ------       --------------  -----  \n",
            " 0   Title        6698 non-null   object \n",
            " 1   Developers   6698 non-null   object \n",
            " 2   Summary      6591 non-null   object \n",
            " 3   Platforms    6698 non-null   object \n",
            " 4   Genres       6698 non-null   object \n",
            " 5   Rating       6185 non-null   float64\n",
            " 6   certificate  3946 non-null   object \n",
            " 7   plot         6698 non-null   object \n",
            " 8   Action       6698 non-null   bool   \n",
            " 9   Adventure    6698 non-null   bool   \n",
            " 10  Comedy       6698 non-null   bool   \n",
            " 11  Crime        6698 non-null   bool   \n",
            " 12  Family       6698 non-null   bool   \n",
            " 13  Fantasy      6698 non-null   bool   \n",
            " 14  Mystery      6698 non-null   bool   \n",
            " 15  Sci-Fi       6698 non-null   bool   \n",
            " 16  Thriller     6698 non-null   bool   \n",
            "dtypes: bool(9), float64(1), object(7)\n",
            "memory usage: 477.6+ KB\n"
          ]
        }
      ],
      "source": [
        "df.info()"
      ]
    },
    {
      "cell_type": "markdown",
      "metadata": {
        "id": "k5VNqNjeYG93"
      },
      "source": [
        "\n",
        "\n",
        "*   Данные состоят из 6698 объектов и 18 признаков\n",
        "*   Среди признаков присутствуют категориальные, текстовые, а также бинарные\n",
        "*   Целевой числовой признак *Rating* имеет вещественный тип\n",
        "*   Признаки *Summary*, *Rating* и *certificate* содержат пропуски в явном виде\n",
        "\n",
        "\n"
      ]
    },
    {
      "cell_type": "markdown",
      "metadata": {
        "id": "2KqIq9d2v_x8"
      },
      "source": [
        "### 2.1. Обработка числовых признаков"
      ]
    },
    {
      "cell_type": "code",
      "execution_count": 14,
      "metadata": {
        "colab": {
          "base_uri": "https://localhost:8080/"
        },
        "id": "ksvjG1Howdbm",
        "outputId": "766b3af4-b60c-4e48-95ee-94b8d6301bd2"
      },
      "outputs": [
        {
          "output_type": "execute_result",
          "data": {
            "text/plain": [
              "0.07659002687369364"
            ]
          },
          "metadata": {},
          "execution_count": 14
        }
      ],
      "source": [
        "df['Rating'].isnull().sum() / df.shape[0]"
      ]
    },
    {
      "cell_type": "markdown",
      "metadata": {
        "id": "5Qu5ruNuwYOk"
      },
      "source": [
        "Признак *Rating* имеет небольшое количество пропусков. Можем заменить пропущенные значения средним.\n"
      ]
    },
    {
      "cell_type": "code",
      "execution_count": 15,
      "metadata": {
        "id": "y1qcNLzikeWs"
      },
      "outputs": [],
      "source": [
        "df['Rating'].fillna(df['Rating'].mean(), inplace=True)"
      ]
    },
    {
      "cell_type": "markdown",
      "metadata": {
        "id": "DR6DASeIe4w4"
      },
      "source": [
        "### 2.2. Обработка категориальных признаков"
      ]
    },
    {
      "cell_type": "code",
      "execution_count": 16,
      "metadata": {
        "colab": {
          "base_uri": "https://localhost:8080/",
          "height": 0
        },
        "id": "DXj5mjXsy0YV",
        "outputId": "0a52b8df-7528-4276-f107-1440a197488b"
      },
      "outputs": [
        {
          "output_type": "execute_result",
          "data": {
            "text/plain": [
              "certificate\n",
              "T            1280\n",
              "M             977\n",
              "E             948\n",
              "E10+          446\n",
              "Unrated       104\n",
              "K-A           102\n",
              "Not Rated      57\n",
              "GA             10\n",
              "AO              7\n",
              "12              4\n",
              "EC              4\n",
              "MA-13           3\n",
              "MA-17           1\n",
              "PG              1\n",
              "PG-13           1\n",
              "Approved        1\n",
              "Name: count, dtype: int64"
            ],
            "text/html": [
              "<div>\n",
              "<style scoped>\n",
              "    .dataframe tbody tr th:only-of-type {\n",
              "        vertical-align: middle;\n",
              "    }\n",
              "\n",
              "    .dataframe tbody tr th {\n",
              "        vertical-align: top;\n",
              "    }\n",
              "\n",
              "    .dataframe thead th {\n",
              "        text-align: right;\n",
              "    }\n",
              "</style>\n",
              "<table border=\"1\" class=\"dataframe\">\n",
              "  <thead>\n",
              "    <tr style=\"text-align: right;\">\n",
              "      <th></th>\n",
              "      <th>count</th>\n",
              "    </tr>\n",
              "    <tr>\n",
              "      <th>certificate</th>\n",
              "      <th></th>\n",
              "    </tr>\n",
              "  </thead>\n",
              "  <tbody>\n",
              "    <tr>\n",
              "      <th>T</th>\n",
              "      <td>1280</td>\n",
              "    </tr>\n",
              "    <tr>\n",
              "      <th>M</th>\n",
              "      <td>977</td>\n",
              "    </tr>\n",
              "    <tr>\n",
              "      <th>E</th>\n",
              "      <td>948</td>\n",
              "    </tr>\n",
              "    <tr>\n",
              "      <th>E10+</th>\n",
              "      <td>446</td>\n",
              "    </tr>\n",
              "    <tr>\n",
              "      <th>Unrated</th>\n",
              "      <td>104</td>\n",
              "    </tr>\n",
              "    <tr>\n",
              "      <th>K-A</th>\n",
              "      <td>102</td>\n",
              "    </tr>\n",
              "    <tr>\n",
              "      <th>Not Rated</th>\n",
              "      <td>57</td>\n",
              "    </tr>\n",
              "    <tr>\n",
              "      <th>GA</th>\n",
              "      <td>10</td>\n",
              "    </tr>\n",
              "    <tr>\n",
              "      <th>AO</th>\n",
              "      <td>7</td>\n",
              "    </tr>\n",
              "    <tr>\n",
              "      <th>12</th>\n",
              "      <td>4</td>\n",
              "    </tr>\n",
              "    <tr>\n",
              "      <th>EC</th>\n",
              "      <td>4</td>\n",
              "    </tr>\n",
              "    <tr>\n",
              "      <th>MA-13</th>\n",
              "      <td>3</td>\n",
              "    </tr>\n",
              "    <tr>\n",
              "      <th>MA-17</th>\n",
              "      <td>1</td>\n",
              "    </tr>\n",
              "    <tr>\n",
              "      <th>PG</th>\n",
              "      <td>1</td>\n",
              "    </tr>\n",
              "    <tr>\n",
              "      <th>PG-13</th>\n",
              "      <td>1</td>\n",
              "    </tr>\n",
              "    <tr>\n",
              "      <th>Approved</th>\n",
              "      <td>1</td>\n",
              "    </tr>\n",
              "  </tbody>\n",
              "</table>\n",
              "</div><br><label><b>dtype:</b> int64</label>"
            ]
          },
          "metadata": {},
          "execution_count": 16
        }
      ],
      "source": [
        "df['certificate'].value_counts()"
      ]
    },
    {
      "cell_type": "markdown",
      "metadata": {
        "id": "78Rv8qfCz0vG"
      },
      "source": [
        "В уникальных значениях признака *certificate* содержатся возрастные рейтинги из разных систем рейтингов, а также их устаревшие названия. Похожие по смыслу названия возрастных рейтингов целесообразно будет объединить в одну группу по следующему правилу:\n",
        "\n",
        "*   E, K-A, GA объединяются в «Everyone» — «Для всех»\n",
        "*   MA-13 и PG-13 объединяются в «13+»\n",
        "*   M и MA-17 объединяются в «17+»\n",
        "*   Unrated и Not Rated объединяются в «UR» — не имеющие рейтинга. Сюда же будем относить пропуски.\n",
        "\n"
      ]
    },
    {
      "cell_type": "code",
      "execution_count": 17,
      "metadata": {
        "id": "EKY_qsUX2_CM"
      },
      "outputs": [],
      "source": [
        "replacement_dict = {\n",
        "    'E': 'Everyone',\n",
        "    'K-A': 'Everyone',\n",
        "    'GA': 'Everyone',\n",
        "    'MA-13': '13+',\n",
        "    'PG-13': '13+',\n",
        "    'M': '17+',\n",
        "    'MA-17': '17+',\n",
        "    'Unrated': 'UR',\n",
        "    'Not Rated': 'UR',\n",
        "    np.nan: 'UR'\n",
        "}\n",
        "\n",
        "df['certificate'] = df['certificate'].replace(replacement_dict)"
      ]
    },
    {
      "cell_type": "markdown",
      "metadata": {
        "id": "mqyRNWOhfV8x"
      },
      "source": [
        "Проверим пересечение уже размеченных принадлежностей к жанрам со списком всех жанров из признака *Genres*"
      ]
    },
    {
      "cell_type": "code",
      "execution_count": 18,
      "metadata": {
        "colab": {
          "base_uri": "https://localhost:8080/"
        },
        "id": "Kop-20jWV0wi",
        "outputId": "040c2c68-c5ee-4e7c-9ed6-84e7ab7c8e1e"
      },
      "outputs": [
        {
          "output_type": "execute_result",
          "data": {
            "text/plain": [
              "['Adventure']"
            ]
          },
          "metadata": {},
          "execution_count": 18
        }
      ],
      "source": [
        "genres_cols = ['Adventure', 'Action', 'Comedy', 'Crime', 'Family', 'Fantasy', 'Mystery', 'Sci-Fi', 'Thriller']\n",
        "genres_df = df['Genres'].apply(eval)\n",
        "\n",
        "all_values = [item for sublist in genres_df for item in sublist]\n",
        "\n",
        "list(set(genres_cols) & set(all_values))"
      ]
    },
    {
      "cell_type": "markdown",
      "metadata": {
        "id": "_dmmMUr0Wgu_"
      },
      "source": [
        "Признак *Adventure* уже содержится в датасете"
      ]
    },
    {
      "cell_type": "code",
      "execution_count": 19,
      "metadata": {
        "id": "UkrFvD6blO4-"
      },
      "outputs": [],
      "source": [
        "df.drop('Adventure', axis=1, inplace=True)\n",
        "genres_cols.remove('Adventure')"
      ]
    },
    {
      "cell_type": "markdown",
      "metadata": {
        "id": "GP2WNNxjW7nY"
      },
      "source": [
        "Разделим значения признаков *Developers*, *Platforms* и *Genres* на отдельные элементы и применим к ним One-Hot\n",
        "Encoding"
      ]
    },
    {
      "cell_type": "code",
      "execution_count": 20,
      "metadata": {
        "id": "CoRrFXW5lRlP"
      },
      "outputs": [],
      "source": [
        "import ast\n",
        "from sklearn.feature_extraction.text import CountVectorizer\n",
        "\n",
        "def vectorize_column(df, col_name, min_def):\n",
        "  def custom_tokenizer(text):\n",
        "    items = ast.literal_eval(text)\n",
        "    return items\n",
        "  vectorizer = CountVectorizer(tokenizer=custom_tokenizer, min_df=min_def, lowercase=False)\n",
        "\n",
        "  vector = vectorizer.fit_transform(df[col_name])\n",
        "\n",
        "  vector_df = pd.DataFrame(vector.toarray(), columns=[f'{col_name} {word}' for word in vectorizer.get_feature_names_out()])\n",
        "\n",
        "  df = pd.concat([df.reset_index(drop=True), vector_df.reset_index(drop=True)], axis=1)\n",
        "  df = df.drop([col_name], axis=1)\n",
        "\n",
        "  return df\n",
        "\n",
        "df = vectorize_column(df, 'Genres', 500)\n",
        "df = vectorize_column(df, 'Platforms', 250)\n",
        "df = vectorize_column(df, 'Developers', 50)\n",
        "for col in genres_cols:\n",
        "  df[col] = df[col].astype(int)\n",
        "  df.rename(columns={col: 'Genres ' + col}, inplace=True)"
      ]
    },
    {
      "cell_type": "markdown",
      "metadata": {
        "id": "jWHEJ7PtupRj"
      },
      "source": [
        "### 2.3. Обработка пропусков текстовых данных"
      ]
    },
    {
      "cell_type": "code",
      "execution_count": 21,
      "metadata": {
        "colab": {
          "base_uri": "https://localhost:8080/",
          "height": 0
        },
        "id": "E-M4u5NgkkP1",
        "outputId": "bc18d6ea-42b5-4fe4-ac66-b9a667146b80"
      },
      "outputs": [
        {
          "output_type": "execute_result",
          "data": {
            "text/plain": [
              "Summary\n",
              "Cars is a racing game based on the animated movie of the same name. The player takes the role of Lightning McQueen in his quest to win the Piston Cup.                                                                                                                                                                                                                                                                                                                                                                                                                                                                                                                                                                                                                                                                                                                                                   0.000455\n",
              "Unsheathe your sword and take up your shield!\\nThe world of Pokémon expands to include the Galar region in Pokémon Sword and Pokémon Shield!                                                                                                                                                                                                                                                                                                                                                                                                                                                                                                                                                                                                                                                                                                                                                             0.000303\n",
              "Based on the animated movie, The Ant Bully puts you in the role of Lucas, a 10-year old boy who passes his time by tormenting an ant hill. Before he knows it, the ants use a magic potion to shrink him down to their size. Then they put him to work for the colony, giving him a fresh perspective on life.\\nThe game is played from a 3D third-person perspective. Most actions are context-sensitive, performed with the press of one button, e.g. Lucas automatically jumps when running off a ledge. You play various missions, and receive medals upon their completion. These medals are worth varying amounts, depending on how well you played: gold is 50 points, silver is 30 points, and bronze is 10. You use these medals to unlock special abilities every time you reach 300 points. The missions mostly involve fighting enemies and collecting items scattered in the game world.    0.000303\n",
              "Name: proportion, dtype: float64"
            ],
            "text/html": [
              "<div>\n",
              "<style scoped>\n",
              "    .dataframe tbody tr th:only-of-type {\n",
              "        vertical-align: middle;\n",
              "    }\n",
              "\n",
              "    .dataframe tbody tr th {\n",
              "        vertical-align: top;\n",
              "    }\n",
              "\n",
              "    .dataframe thead th {\n",
              "        text-align: right;\n",
              "    }\n",
              "</style>\n",
              "<table border=\"1\" class=\"dataframe\">\n",
              "  <thead>\n",
              "    <tr style=\"text-align: right;\">\n",
              "      <th></th>\n",
              "      <th>proportion</th>\n",
              "    </tr>\n",
              "    <tr>\n",
              "      <th>Summary</th>\n",
              "      <th></th>\n",
              "    </tr>\n",
              "  </thead>\n",
              "  <tbody>\n",
              "    <tr>\n",
              "      <th>Cars is a racing game based on the animated movie of the same name. The player takes the role of Lightning McQueen in his quest to win the Piston Cup.</th>\n",
              "      <td>0.000455</td>\n",
              "    </tr>\n",
              "    <tr>\n",
              "      <th>Unsheathe your sword and take up your shield!\\nThe world of Pokémon expands to include the Galar region in Pokémon Sword and Pokémon Shield!</th>\n",
              "      <td>0.000303</td>\n",
              "    </tr>\n",
              "    <tr>\n",
              "      <th>Based on the animated movie, The Ant Bully puts you in the role of Lucas, a 10-year old boy who passes his time by tormenting an ant hill. Before he knows it, the ants use a magic potion to shrink him down to their size. Then they put him to work for the colony, giving him a fresh perspective on life.\\nThe game is played from a 3D third-person perspective. Most actions are context-sensitive, performed with the press of one button, e.g. Lucas automatically jumps when running off a ledge. You play various missions, and receive medals upon their completion. These medals are worth varying amounts, depending on how well you played: gold is 50 points, silver is 30 points, and bronze is 10. You use these medals to unlock special abilities every time you reach 300 points. The missions mostly involve fighting enemies and collecting items scattered in the game world.</th>\n",
              "      <td>0.000303</td>\n",
              "    </tr>\n",
              "  </tbody>\n",
              "</table>\n",
              "</div><br><label><b>dtype:</b> float64</label>"
            ]
          },
          "metadata": {},
          "execution_count": 21
        }
      ],
      "source": [
        "df['Summary'].value_counts(normalize=True).head(3)"
      ]
    },
    {
      "cell_type": "code",
      "execution_count": 22,
      "metadata": {
        "colab": {
          "base_uri": "https://localhost:8080/",
          "height": 0
        },
        "id": "FdOU0czEknUN",
        "outputId": "cae9d9e0-4db5-441b-bf52-8b37f4dea0ed"
      },
      "outputs": [
        {
          "output_type": "execute_result",
          "data": {
            "text/plain": [
              "plot\n",
              "Add a Plot                                                                                                                                                                                  0.240818\n",
              "After the adventures in the movie, McQueen starts the next season of the Piston Cup.                                                                                                        0.000896\n",
              "FIFA 08 is the 2007 installment of EA Sports' series of football video games that introduces the \"Be a Pro Mode\", where the player plays as only one player throughout the entire match.    0.000597\n",
              "Name: proportion, dtype: float64"
            ],
            "text/html": [
              "<div>\n",
              "<style scoped>\n",
              "    .dataframe tbody tr th:only-of-type {\n",
              "        vertical-align: middle;\n",
              "    }\n",
              "\n",
              "    .dataframe tbody tr th {\n",
              "        vertical-align: top;\n",
              "    }\n",
              "\n",
              "    .dataframe thead th {\n",
              "        text-align: right;\n",
              "    }\n",
              "</style>\n",
              "<table border=\"1\" class=\"dataframe\">\n",
              "  <thead>\n",
              "    <tr style=\"text-align: right;\">\n",
              "      <th></th>\n",
              "      <th>proportion</th>\n",
              "    </tr>\n",
              "    <tr>\n",
              "      <th>plot</th>\n",
              "      <th></th>\n",
              "    </tr>\n",
              "  </thead>\n",
              "  <tbody>\n",
              "    <tr>\n",
              "      <th>Add a Plot</th>\n",
              "      <td>0.240818</td>\n",
              "    </tr>\n",
              "    <tr>\n",
              "      <th>After the adventures in the movie, McQueen starts the next season of the Piston Cup.</th>\n",
              "      <td>0.000896</td>\n",
              "    </tr>\n",
              "    <tr>\n",
              "      <th>FIFA 08 is the 2007 installment of EA Sports' series of football video games that introduces the \"Be a Pro Mode\", where the player plays as only one player throughout the entire match.</th>\n",
              "      <td>0.000597</td>\n",
              "    </tr>\n",
              "  </tbody>\n",
              "</table>\n",
              "</div><br><label><b>dtype:</b> float64</label>"
            ]
          },
          "metadata": {},
          "execution_count": 22
        }
      ],
      "source": [
        "df['plot'].value_counts(normalize=True).head(3)"
      ]
    },
    {
      "cell_type": "markdown",
      "metadata": {
        "id": "LvIQN9whuRGb"
      },
      "source": [
        "Признак \"plot\" содержит много значений \"Add a Plot\", которые по сути можно считать пропусками."
      ]
    },
    {
      "cell_type": "markdown",
      "metadata": {
        "id": "c8SPiMCNvGMS"
      },
      "source": [
        "Избавимся от строк, содержащих пропуски в текстовых данных"
      ]
    },
    {
      "cell_type": "code",
      "execution_count": 23,
      "metadata": {
        "id": "aIt0r1uQkqv1"
      },
      "outputs": [],
      "source": [
        "df = df.dropna(subset=['Summary'])\n",
        "df = df[df['plot'] != 'Add a Plot']"
      ]
    },
    {
      "cell_type": "markdown",
      "metadata": {
        "id": "NYQsIc_wb1Ik"
      },
      "source": [
        "## 3. Кластеризация"
      ]
    },
    {
      "cell_type": "code",
      "execution_count": 24,
      "metadata": {
        "id": "yBdE0Ve3wR_f"
      },
      "outputs": [],
      "source": [
        "data = df.drop(['Title'], axis=1)"
      ]
    },
    {
      "cell_type": "markdown",
      "metadata": {
        "id": "xBhMKiAcXcz_"
      },
      "source": [
        "Нормализация текстовых данных: избавимся от знаков пунктуации и стоп-слов, переведём все слова в нижний регистр и приведём их к базовой форме."
      ]
    },
    {
      "cell_type": "code",
      "execution_count": 25,
      "metadata": {
        "colab": {
          "base_uri": "https://localhost:8080/"
        },
        "id": "fi3u5mrMldM_",
        "outputId": "0f25a2fb-1897-4378-d8f3-cb3394637ecc"
      },
      "outputs": [
        {
          "output_type": "stream",
          "name": "stderr",
          "text": [
            "[nltk_data] Downloading package stopwords to /root/nltk_data...\n",
            "[nltk_data]   Package stopwords is already up-to-date!\n",
            "[nltk_data] Downloading package wordnet to /root/nltk_data...\n",
            "[nltk_data]   Package wordnet is already up-to-date!\n"
          ]
        }
      ],
      "source": [
        "import re\n",
        "import string\n",
        "import nltk\n",
        "from nltk.corpus import stopwords\n",
        "from nltk.stem import WordNetLemmatizer\n",
        "nltk.download('stopwords')\n",
        "nltk.download('wordnet')\n",
        "\n",
        "lemmatizer = WordNetLemmatizer()\n",
        "\n",
        "def normalize_text(text):\n",
        "    text = text.lower()\n",
        "\n",
        "    text = re.sub(r'<.*?>|[^\\x00-\\x7f]', '', text)\n",
        "    text = re.sub(f\"[{re.escape(string.punctuation)}]\", \" \", text)\n",
        "\n",
        "    stop_words = set(stopwords.words(\"english\"))\n",
        "    words = [word for word in text.split() if word not in stop_words]\n",
        "\n",
        "    words = [lemmatizer.lemmatize(word) for word in words]\n",
        "    return ' '.join(words)\n",
        "\n",
        "df['Summary'] = df['Summary'].apply(normalize_text)\n",
        "df['plot'] = df['plot'].apply(normalize_text)"
      ]
    },
    {
      "cell_type": "markdown",
      "metadata": {
        "id": "Pp9RnK-DvCwo"
      },
      "source": [
        "Сгенерируем новые данные на основе текстовых признаков, используя модель Bag of Words"
      ]
    },
    {
      "cell_type": "code",
      "execution_count": 110,
      "metadata": {
        "id": "PjpGtWs8u4dQ"
      },
      "outputs": [],
      "source": [
        "from sklearn.feature_extraction.text import TfidfVectorizer\n",
        "\n",
        "X = data.drop(['Rating'], axis=1)\n",
        "Y = data['Rating']\n",
        "\n",
        "tfidf_vectorizer_summary = TfidfVectorizer()\n",
        "tfidf_vectorizer_plot = TfidfVectorizer()\n",
        "\n",
        "tfidf_summary = tfidf_vectorizer_summary.fit_transform(X['Summary'])\n",
        "tfidf_plot = tfidf_vectorizer_plot.fit_transform(X['plot'])\n",
        "\n",
        "summary_df = pd.DataFrame(tfidf_summary.toarray(), columns=tfidf_vectorizer_summary.get_feature_names_out())\n",
        "plot_df = pd.DataFrame(tfidf_plot.toarray(), columns=tfidf_vectorizer_plot.get_feature_names_out())\n",
        "\n",
        "X_combined = pd.concat([X.drop(['Summary', 'plot', 'certificate'], axis=1).reset_index(drop=True), summary_df, plot_df], axis=1)\n",
        "\n",
        "from sklearn.decomposition import PCA\n",
        "\n",
        "# Уменьшаем размерность до 10 компонент\n",
        "pca = PCA(n_components=10)\n",
        "X_reduced = pca.fit_transform(X_combined.values)"
      ]
    },
    {
      "cell_type": "code",
      "source": [
        "from sklearn.cluster import KMeans, DBSCAN, AgglomerativeClustering\n",
        "from sklearn.preprocessing import StandardScaler\n",
        "from sklearn.decomposition import PCA\n",
        "\n",
        "\n",
        "# Кластеризация KMeans\n",
        "kmeans = KMeans(n_clusters=2000, random_state=42)\n",
        "kmeans_labels = kmeans.fit_predict(X_reduced)"
      ],
      "metadata": {
        "id": "PVCubUUnBGxJ"
      },
      "execution_count": 161,
      "outputs": []
    },
    {
      "cell_type": "code",
      "source": [
        "# Кластеризация DBSCAN\n",
        "dbscan = DBSCAN(eps=1.2, min_samples=3)\n",
        "dbscan_labels = dbscan.fit_predict(X_reduced)"
      ],
      "metadata": {
        "id": "bg0DG2bemC0p"
      },
      "execution_count": 213,
      "outputs": []
    },
    {
      "cell_type": "code",
      "source": [
        "# Кластеризация агломеративным методом\n",
        "agg_clustering = AgglomerativeClustering(n_clusters=2000)\n",
        "agg_labels = agg_clustering.fit_predict(X_reduced)"
      ],
      "metadata": {
        "id": "QOtYMBKuBIQH"
      },
      "execution_count": 162,
      "outputs": []
    },
    {
      "cell_type": "code",
      "source": [
        "def cluster_distribution(labels, method_name):\n",
        "    unique, counts = np.unique(labels, return_counts=True)\n",
        "    print(f\"\\n{method_name} Cluster Distribution:\")\n",
        "    for cluster, count in zip(unique, counts):\n",
        "        print(f\"Cluster {cluster}: {count} points\")\n",
        "\n",
        "def analyze_cluster_means(data, labels, method_name):\n",
        "    clusters = pd.DataFrame(data)\n",
        "    clusters['Cluster'] = labels\n",
        "    cluster_means = clusters.groupby('Cluster').mean()\n",
        "    print(f\"\\n{method_name} Cluster Characteristics (Means):\")\n",
        "    print(cluster_means)\n",
        "\n",
        "def visualize_clusters(data, labels_list, methods):\n",
        "    pca = PCA(n_components=2)\n",
        "    reduced_data = pca.fit_transform(data)\n",
        "\n",
        "    plt.figure(figsize=(15, 5))\n",
        "    for i, (labels, method_name) in enumerate(zip(labels_list, methods)):\n",
        "        plt.subplot(1, len(labels_list), i + 1)\n",
        "        plt.scatter(reduced_data[:, 0], reduced_data[:, 1], c=labels, cmap='viridis')\n",
        "        plt.title(f\"{method_name} Clusters\")\n",
        "    plt.show()"
      ],
      "metadata": {
        "id": "wdEhGA2PmIpR"
      },
      "execution_count": 217,
      "outputs": []
    },
    {
      "cell_type": "code",
      "source": [
        "from sklearn.metrics import silhouette_score\n",
        "\n",
        "# Сравнение результатов кластеризации\n",
        "print(f\"KMeans Silhouette Score: {silhouette_score(X_reduced, kmeans_labels)}\")\n",
        "print(f\"DBSCAN Silhouette Score: {silhouette_score(X_reduced, dbscan_labels)}\")\n",
        "print(f\"Agglomerative Clustering Silhouette Score: {silhouette_score(X_reduced, agg_labels)}\")"
      ],
      "metadata": {
        "colab": {
          "base_uri": "https://localhost:8080/"
        },
        "id": "BvQBND4lSZ6n",
        "outputId": "e79f7e2f-9942-4f0d-8121-c44c98a6f773"
      },
      "execution_count": 214,
      "outputs": [
        {
          "output_type": "stream",
          "name": "stdout",
          "text": [
            "KMeans Silhouette Score: 0.331309219710506\n",
            "DBSCAN Silhouette Score: 0.23715642997525468\n",
            "Agglomerative Clustering Silhouette Score: 0.3603424065752394\n"
          ]
        }
      ]
    },
    {
      "cell_type": "code",
      "source": [
        "visualize_clusters(X_combined,\n",
        "                   [kmeans_labels, dbscan_labels, agg_labels],\n",
        "                   [\"KMeans\", \"DBSCAN\", \"Agglomerative\"])"
      ],
      "metadata": {
        "colab": {
          "base_uri": "https://localhost:8080/",
          "height": 468
        },
        "id": "aWXSULhxBNAe",
        "outputId": "590003fb-d563-41ea-db94-a4d7b9ddb235"
      },
      "execution_count": 218,
      "outputs": [
        {
          "output_type": "display_data",
          "data": {
            "text/plain": [
              "<Figure size 1500x500 with 3 Axes>"
            ],
            "image/png": "[encoded data removed]"
          },
          "metadata": {}
        }
      ]
    },
    {
      "cell_type": "markdown",
      "source": [
        "### Результаты\n",
        "\n",
        "При начальных параметрах методы показывали достаточно плохие результаты: при использовании KMeans и агломеративной кластеризации кластеры перекрывались, а в случае с DBSCAN значительная часть точек была помечена как шум. Настройка параметров и снижение размерности с помощью PCA улучшили результаты."
      ],
      "metadata": {
        "id": "xYe13J0MbFgB"
      }
    }
  ],
  "metadata": {
    "colab": {
      "provenance": [],
      "authorship_tag": "ABX9TyNp5m4pFy4TH8rjTw6Gj7nn",
      "include_colab_link": true
    },
    "kernelspec": {
      "display_name": "Python 3",
      "name": "python3"
    },
    "language_info": {
      "name": "python"
    }
  },
  "nbformat": 4,
  "nbformat_minor": 0
}